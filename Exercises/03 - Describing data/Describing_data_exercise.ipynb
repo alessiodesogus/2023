{
 "cells": [
  {
   "cell_type": "markdown",
   "metadata": {},
   "source": [
    "# Describing Data\n",
    "\n",
    "### What do you find in this notebook?\n",
    "\n",
    "In this exercise, first, you will familiarize yourself with the Python libraries 'statsmodels' and 'SciPy' that let you do statistical analysis: calculate descriptive statistics, sample datapoints, study relationships between variables, and perform hypothesis testing. Then, second, you will work on a set of exercises that will let you practice your skills.\n",
    "\n",
    "Here we show a couple of examples of how to do common analyses, but there are many more useful probability distributions and statistical tests. In the linked documentation, you will find complete information, and a lot more details compared to what is outlined in this notebook:\n",
    "- [statsmodels](https://www.statsmodels.org/stable/examples/index.html), [more complete documentation](https://www.statsmodels.org/stable/stats.html)\n",
    "- [SciPy](https://docs.scipy.org/doc/scipy/reference/stats.html)"
   ]
  },
  {
   "cell_type": "markdown",
   "metadata": {},
   "source": [
    "# Tutorial: How to use the libraries\n",
    "\n",
    "- You will be working with the full US 2015 census dataset (acs2015_county_data.csv, available at https://www.kaggle.com/muonneutrino/us-census-demographic-data#acs2015_county_data.csv). Here we load it. Take some time to familiarize yourself with the contents. One row represents one county."
   ]
  },
  {
   "cell_type": "code",
   "execution_count": 1,
   "metadata": {
    "tags": []
   },
   "outputs": [],
   "source": [
    "import pandas as pd\n",
    "import pandas as pd\n",
    "import numpy as np\n",
    "import matplotlib.pyplot as plt\n",
    "%matplotlib inline\n",
    "import seaborn as sns\n",
    "import math\n",
    "import statsmodels as sm\n",
    "\n",
    "#load the statistical libraries\n",
    "from statsmodels.stats import diagnostic\n",
    "from scipy import stats"
   ]
  },
  {
   "cell_type": "code",
   "execution_count": 112,
   "metadata": {
    "tags": []
   },
   "outputs": [],
   "source": [
    "data_folder = './data/'\n",
    "df = pd.read_csv(data_folder + 'acs2015_county_data.csv')"
   ]
  },
  {
   "cell_type": "code",
   "execution_count": 113,
   "metadata": {},
   "outputs": [
    {
     "data": {
      "text/plain": [
       "Index(['CensusId', 'State', 'County', 'TotalPop', 'Men', 'Women', 'Hispanic',\n",
       "       'White', 'Black', 'Native', 'Asian', 'Pacific', 'Citizen', 'Income',\n",
       "       'IncomeErr', 'IncomePerCap', 'IncomePerCapErr', 'Poverty',\n",
       "       'ChildPoverty', 'Professional', 'Service', 'Office', 'Construction',\n",
       "       'Production', 'Drive', 'Carpool', 'Transit', 'Walk', 'OtherTransp',\n",
       "       'WorkAtHome', 'MeanCommute', 'Employed', 'PrivateWork', 'PublicWork',\n",
       "       'SelfEmployed', 'FamilyWork', 'Unemployment'],\n",
       "      dtype='object')"
      ]
     },
     "execution_count": 113,
     "metadata": {},
     "output_type": "execute_result"
    }
   ],
   "source": [
    "df.columns"
   ]
  },
  {
   "cell_type": "code",
   "execution_count": 114,
   "metadata": {},
   "outputs": [
    {
     "data": {
      "text/html": [
       "<div>\n",
       "<style scoped>\n",
       "    .dataframe tbody tr th:only-of-type {\n",
       "        vertical-align: middle;\n",
       "    }\n",
       "\n",
       "    .dataframe tbody tr th {\n",
       "        vertical-align: top;\n",
       "    }\n",
       "\n",
       "    .dataframe thead th {\n",
       "        text-align: right;\n",
       "    }\n",
       "</style>\n",
       "<table border=\"1\" class=\"dataframe\">\n",
       "  <thead>\n",
       "    <tr style=\"text-align: right;\">\n",
       "      <th></th>\n",
       "      <th>CensusId</th>\n",
       "      <th>State</th>\n",
       "      <th>County</th>\n",
       "      <th>TotalPop</th>\n",
       "      <th>Men</th>\n",
       "      <th>Women</th>\n",
       "      <th>Hispanic</th>\n",
       "      <th>White</th>\n",
       "      <th>Black</th>\n",
       "      <th>Native</th>\n",
       "      <th>...</th>\n",
       "      <th>Walk</th>\n",
       "      <th>OtherTransp</th>\n",
       "      <th>WorkAtHome</th>\n",
       "      <th>MeanCommute</th>\n",
       "      <th>Employed</th>\n",
       "      <th>PrivateWork</th>\n",
       "      <th>PublicWork</th>\n",
       "      <th>SelfEmployed</th>\n",
       "      <th>FamilyWork</th>\n",
       "      <th>Unemployment</th>\n",
       "    </tr>\n",
       "  </thead>\n",
       "  <tbody>\n",
       "    <tr>\n",
       "      <th>917</th>\n",
       "      <td>20059</td>\n",
       "      <td>Kansas</td>\n",
       "      <td>Franklin</td>\n",
       "      <td>25753</td>\n",
       "      <td>12675</td>\n",
       "      <td>13078</td>\n",
       "      <td>3.9</td>\n",
       "      <td>91.2</td>\n",
       "      <td>1.2</td>\n",
       "      <td>0.4</td>\n",
       "      <td>...</td>\n",
       "      <td>3.0</td>\n",
       "      <td>2.1</td>\n",
       "      <td>4.3</td>\n",
       "      <td>24.4</td>\n",
       "      <td>12701</td>\n",
       "      <td>76.4</td>\n",
       "      <td>17.5</td>\n",
       "      <td>6.0</td>\n",
       "      <td>0.2</td>\n",
       "      <td>6.9</td>\n",
       "    </tr>\n",
       "    <tr>\n",
       "      <th>2996</th>\n",
       "      <td>54009</td>\n",
       "      <td>West Virginia</td>\n",
       "      <td>Brooke</td>\n",
       "      <td>23665</td>\n",
       "      <td>11537</td>\n",
       "      <td>12128</td>\n",
       "      <td>0.8</td>\n",
       "      <td>96.1</td>\n",
       "      <td>1.7</td>\n",
       "      <td>0.1</td>\n",
       "      <td>...</td>\n",
       "      <td>4.5</td>\n",
       "      <td>0.3</td>\n",
       "      <td>3.7</td>\n",
       "      <td>26.2</td>\n",
       "      <td>10360</td>\n",
       "      <td>79.5</td>\n",
       "      <td>16.5</td>\n",
       "      <td>4.0</td>\n",
       "      <td>0.0</td>\n",
       "      <td>6.4</td>\n",
       "    </tr>\n",
       "    <tr>\n",
       "      <th>2281</th>\n",
       "      <td>42075</td>\n",
       "      <td>Pennsylvania</td>\n",
       "      <td>Lebanon</td>\n",
       "      <td>135776</td>\n",
       "      <td>66380</td>\n",
       "      <td>69396</td>\n",
       "      <td>11.0</td>\n",
       "      <td>84.7</td>\n",
       "      <td>1.7</td>\n",
       "      <td>0.1</td>\n",
       "      <td>...</td>\n",
       "      <td>4.1</td>\n",
       "      <td>1.2</td>\n",
       "      <td>3.9</td>\n",
       "      <td>23.2</td>\n",
       "      <td>65090</td>\n",
       "      <td>81.0</td>\n",
       "      <td>12.3</td>\n",
       "      <td>6.4</td>\n",
       "      <td>0.2</td>\n",
       "      <td>6.9</td>\n",
       "    </tr>\n",
       "    <tr>\n",
       "      <th>1211</th>\n",
       "      <td>24039</td>\n",
       "      <td>Maryland</td>\n",
       "      <td>Somerset</td>\n",
       "      <td>25980</td>\n",
       "      <td>14150</td>\n",
       "      <td>11830</td>\n",
       "      <td>3.6</td>\n",
       "      <td>51.7</td>\n",
       "      <td>41.4</td>\n",
       "      <td>0.3</td>\n",
       "      <td>...</td>\n",
       "      <td>3.2</td>\n",
       "      <td>1.8</td>\n",
       "      <td>4.7</td>\n",
       "      <td>24.1</td>\n",
       "      <td>8103</td>\n",
       "      <td>65.8</td>\n",
       "      <td>29.2</td>\n",
       "      <td>4.9</td>\n",
       "      <td>0.1</td>\n",
       "      <td>8.2</td>\n",
       "    </tr>\n",
       "    <tr>\n",
       "      <th>2275</th>\n",
       "      <td>42063</td>\n",
       "      <td>Pennsylvania</td>\n",
       "      <td>Indiana</td>\n",
       "      <td>87895</td>\n",
       "      <td>44252</td>\n",
       "      <td>43643</td>\n",
       "      <td>1.3</td>\n",
       "      <td>93.9</td>\n",
       "      <td>2.3</td>\n",
       "      <td>0.2</td>\n",
       "      <td>...</td>\n",
       "      <td>5.3</td>\n",
       "      <td>1.9</td>\n",
       "      <td>3.2</td>\n",
       "      <td>22.2</td>\n",
       "      <td>38903</td>\n",
       "      <td>78.4</td>\n",
       "      <td>14.7</td>\n",
       "      <td>6.7</td>\n",
       "      <td>0.2</td>\n",
       "      <td>7.8</td>\n",
       "    </tr>\n",
       "    <tr>\n",
       "      <th>468</th>\n",
       "      <td>13165</td>\n",
       "      <td>Georgia</td>\n",
       "      <td>Jenkins</td>\n",
       "      <td>8922</td>\n",
       "      <td>4444</td>\n",
       "      <td>4478</td>\n",
       "      <td>7.8</td>\n",
       "      <td>56.4</td>\n",
       "      <td>33.4</td>\n",
       "      <td>0.0</td>\n",
       "      <td>...</td>\n",
       "      <td>2.0</td>\n",
       "      <td>0.0</td>\n",
       "      <td>2.0</td>\n",
       "      <td>21.6</td>\n",
       "      <td>3035</td>\n",
       "      <td>74.6</td>\n",
       "      <td>21.0</td>\n",
       "      <td>4.4</td>\n",
       "      <td>0.0</td>\n",
       "      <td>10.3</td>\n",
       "    </tr>\n",
       "    <tr>\n",
       "      <th>2425</th>\n",
       "      <td>46129</td>\n",
       "      <td>South Dakota</td>\n",
       "      <td>Walworth</td>\n",
       "      <td>5495</td>\n",
       "      <td>2688</td>\n",
       "      <td>2807</td>\n",
       "      <td>4.7</td>\n",
       "      <td>81.3</td>\n",
       "      <td>0.2</td>\n",
       "      <td>8.5</td>\n",
       "      <td>...</td>\n",
       "      <td>7.3</td>\n",
       "      <td>1.5</td>\n",
       "      <td>3.6</td>\n",
       "      <td>13.8</td>\n",
       "      <td>2595</td>\n",
       "      <td>75.3</td>\n",
       "      <td>15.8</td>\n",
       "      <td>8.6</td>\n",
       "      <td>0.3</td>\n",
       "      <td>5.8</td>\n",
       "    </tr>\n",
       "    <tr>\n",
       "      <th>1557</th>\n",
       "      <td>29149</td>\n",
       "      <td>Missouri</td>\n",
       "      <td>Oregon</td>\n",
       "      <td>10979</td>\n",
       "      <td>5389</td>\n",
       "      <td>5590</td>\n",
       "      <td>1.5</td>\n",
       "      <td>94.5</td>\n",
       "      <td>0.2</td>\n",
       "      <td>1.3</td>\n",
       "      <td>...</td>\n",
       "      <td>2.3</td>\n",
       "      <td>1.3</td>\n",
       "      <td>4.5</td>\n",
       "      <td>23.1</td>\n",
       "      <td>4083</td>\n",
       "      <td>71.4</td>\n",
       "      <td>16.8</td>\n",
       "      <td>11.6</td>\n",
       "      <td>0.2</td>\n",
       "      <td>7.1</td>\n",
       "    </tr>\n",
       "    <tr>\n",
       "      <th>2021</th>\n",
       "      <td>38063</td>\n",
       "      <td>North Dakota</td>\n",
       "      <td>Nelson</td>\n",
       "      <td>3048</td>\n",
       "      <td>1572</td>\n",
       "      <td>1476</td>\n",
       "      <td>1.9</td>\n",
       "      <td>94.6</td>\n",
       "      <td>1.4</td>\n",
       "      <td>1.3</td>\n",
       "      <td>...</td>\n",
       "      <td>7.1</td>\n",
       "      <td>1.1</td>\n",
       "      <td>10.2</td>\n",
       "      <td>20.0</td>\n",
       "      <td>1554</td>\n",
       "      <td>63.4</td>\n",
       "      <td>18.0</td>\n",
       "      <td>18.5</td>\n",
       "      <td>0.1</td>\n",
       "      <td>0.7</td>\n",
       "    </tr>\n",
       "    <tr>\n",
       "      <th>2055</th>\n",
       "      <td>39025</td>\n",
       "      <td>Ohio</td>\n",
       "      <td>Clermont</td>\n",
       "      <td>200285</td>\n",
       "      <td>98883</td>\n",
       "      <td>101402</td>\n",
       "      <td>1.7</td>\n",
       "      <td>94.3</td>\n",
       "      <td>1.4</td>\n",
       "      <td>0.2</td>\n",
       "      <td>...</td>\n",
       "      <td>1.2</td>\n",
       "      <td>0.7</td>\n",
       "      <td>4.8</td>\n",
       "      <td>27.7</td>\n",
       "      <td>97207</td>\n",
       "      <td>85.6</td>\n",
       "      <td>9.2</td>\n",
       "      <td>5.1</td>\n",
       "      <td>0.1</td>\n",
       "      <td>5.5</td>\n",
       "    </tr>\n",
       "  </tbody>\n",
       "</table>\n",
       "<p>10 rows × 37 columns</p>\n",
       "</div>"
      ],
      "text/plain": [
       "      CensusId          State    County  TotalPop    Men   Women  Hispanic  \\\n",
       "917      20059         Kansas  Franklin     25753  12675   13078       3.9   \n",
       "2996     54009  West Virginia    Brooke     23665  11537   12128       0.8   \n",
       "2281     42075   Pennsylvania   Lebanon    135776  66380   69396      11.0   \n",
       "1211     24039       Maryland  Somerset     25980  14150   11830       3.6   \n",
       "2275     42063   Pennsylvania   Indiana     87895  44252   43643       1.3   \n",
       "468      13165        Georgia   Jenkins      8922   4444    4478       7.8   \n",
       "2425     46129   South Dakota  Walworth      5495   2688    2807       4.7   \n",
       "1557     29149       Missouri    Oregon     10979   5389    5590       1.5   \n",
       "2021     38063   North Dakota    Nelson      3048   1572    1476       1.9   \n",
       "2055     39025           Ohio  Clermont    200285  98883  101402       1.7   \n",
       "\n",
       "      White  Black  Native  ...  Walk  OtherTransp  WorkAtHome  MeanCommute  \\\n",
       "917    91.2    1.2     0.4  ...   3.0          2.1         4.3         24.4   \n",
       "2996   96.1    1.7     0.1  ...   4.5          0.3         3.7         26.2   \n",
       "2281   84.7    1.7     0.1  ...   4.1          1.2         3.9         23.2   \n",
       "1211   51.7   41.4     0.3  ...   3.2          1.8         4.7         24.1   \n",
       "2275   93.9    2.3     0.2  ...   5.3          1.9         3.2         22.2   \n",
       "468    56.4   33.4     0.0  ...   2.0          0.0         2.0         21.6   \n",
       "2425   81.3    0.2     8.5  ...   7.3          1.5         3.6         13.8   \n",
       "1557   94.5    0.2     1.3  ...   2.3          1.3         4.5         23.1   \n",
       "2021   94.6    1.4     1.3  ...   7.1          1.1        10.2         20.0   \n",
       "2055   94.3    1.4     0.2  ...   1.2          0.7         4.8         27.7   \n",
       "\n",
       "      Employed  PrivateWork  PublicWork  SelfEmployed  FamilyWork  \\\n",
       "917      12701         76.4        17.5           6.0         0.2   \n",
       "2996     10360         79.5        16.5           4.0         0.0   \n",
       "2281     65090         81.0        12.3           6.4         0.2   \n",
       "1211      8103         65.8        29.2           4.9         0.1   \n",
       "2275     38903         78.4        14.7           6.7         0.2   \n",
       "468       3035         74.6        21.0           4.4         0.0   \n",
       "2425      2595         75.3        15.8           8.6         0.3   \n",
       "1557      4083         71.4        16.8          11.6         0.2   \n",
       "2021      1554         63.4        18.0          18.5         0.1   \n",
       "2055     97207         85.6         9.2           5.1         0.1   \n",
       "\n",
       "      Unemployment  \n",
       "917            6.9  \n",
       "2996           6.4  \n",
       "2281           6.9  \n",
       "1211           8.2  \n",
       "2275           7.8  \n",
       "468           10.3  \n",
       "2425           5.8  \n",
       "1557           7.1  \n",
       "2021           0.7  \n",
       "2055           5.5  \n",
       "\n",
       "[10 rows x 37 columns]"
      ]
     },
     "execution_count": 114,
     "metadata": {},
     "output_type": "execute_result"
    }
   ],
   "source": [
    "df.sample(10)"
   ]
  },
  {
   "cell_type": "markdown",
   "metadata": {},
   "source": [
    "- We will focus first on income per capita across counties (Per capita income (PCI) or total income measures the average income earned per person in a given area (city, region, country, etc.) in a specified year.)"
   ]
  },
  {
   "cell_type": "code",
   "execution_count": 115,
   "metadata": {},
   "outputs": [
    {
     "data": {
      "text/plain": [
       "<Axes: >"
      ]
     },
     "execution_count": 115,
     "metadata": {},
     "output_type": "execute_result"
    },
    {
     "data": {
      "image/png": "[encoded data removed]",
      "text/plain": [
       "<Figure size 640x480 with 1 Axes>"
      ]
     },
     "metadata": {},
     "output_type": "display_data"
    }
   ],
   "source": [
    "df['IncomePerCap'].hist(bins = 50)"
   ]
  },
  {
   "cell_type": "markdown",
   "metadata": {},
   "source": [
    "### 1. Calculating descriptive statisctics\n",
    "\n",
    "- Let's calculate basic descriptive statistics of the income per capita."
   ]
  },
  {
   "cell_type": "code",
   "execution_count": 116,
   "metadata": {},
   "outputs": [
    {
     "data": {
      "text/plain": [
       "count     3220.000000\n",
       "mean     23981.771739\n",
       "std       6204.339960\n",
       "min       5878.000000\n",
       "25%      20238.500000\n",
       "50%      23460.000000\n",
       "75%      27053.250000\n",
       "max      65600.000000\n",
       "Name: IncomePerCap, dtype: float64"
      ]
     },
     "execution_count": 116,
     "metadata": {},
     "output_type": "execute_result"
    }
   ],
   "source": [
    "df['IncomePerCap'].describe()"
   ]
  },
  {
   "cell_type": "markdown",
   "metadata": {},
   "source": [
    "- What distribution does the data come from? Here is how we can test the goodness of the fit."
   ]
  },
  {
   "cell_type": "code",
   "execution_count": 117,
   "metadata": {},
   "outputs": [
    {
     "data": {
      "text/plain": [
       "(0.0637621121184162, 0.0009999999999998899)"
      ]
     },
     "execution_count": 117,
     "metadata": {},
     "output_type": "execute_result"
    }
   ],
   "source": [
    "# does the data come from a normal distrbution?\n",
    "diagnostic.kstest_normal(df['IncomePerCap'].values, dist = 'norm')"
   ]
  },
  {
   "cell_type": "markdown",
   "metadata": {},
   "source": [
    "- p_value < 0.05 -> we can reject the null hypothesis that the data comes from a normal distribution!"
   ]
  },
  {
   "cell_type": "code",
   "execution_count": 118,
   "metadata": {},
   "outputs": [
    {
     "data": {
      "text/plain": [
       "(0.433243770582646, 0.0009999999999998899)"
      ]
     },
     "execution_count": 118,
     "metadata": {},
     "output_type": "execute_result"
    }
   ],
   "source": [
    "#how about exponential?\n",
    "diagnostic.kstest_normal(df['IncomePerCap'].values, dist = 'exp')"
   ]
  },
  {
   "cell_type": "markdown",
   "metadata": {},
   "source": [
    "- p < 0.05 -> not exponential either!"
   ]
  },
  {
   "cell_type": "markdown",
   "metadata": {},
   "source": [
    "### 2. How to sample the data"
   ]
  },
  {
   "cell_type": "markdown",
   "metadata": {},
   "source": [
    "- Often we need to find random samples from the dataset. We can do so conveniently with pandas wrappers."
   ]
  },
  {
   "cell_type": "code",
   "execution_count": 119,
   "metadata": {},
   "outputs": [],
   "source": [
    "#make 10 samples with replacement\n",
    "sample1_counties = df.sample(n = 10, replace = True)\n",
    "\n",
    "#make 10 samples without replacement\n",
    "sample1_counties = df.sample(n = 10, replace = False)\n",
    "\n",
    "#sometimes we want to sample in an ublanaced way, so that we upsample datapoints of certain characteristic,\n",
    "#and downsample the others. this can be acieved with weights parameter\n",
    "#here we sample by upsampling counties with large population\n",
    "sample2_counties = df.sample(n = 10, replace = False, weights = df['TotalPop'])"
   ]
  },
  {
   "cell_type": "code",
   "execution_count": 120,
   "metadata": {},
   "outputs": [
    {
     "name": "stdout",
     "output_type": "stream",
     "text": [
      "110805.2\n",
      "1319236.8\n"
     ]
    }
   ],
   "source": [
    "#on avergage, the samples in the sample produce with reveighting now have higher population, as we wanted!\n",
    "print(sample1_counties['TotalPop'].mean())\n",
    "print(sample2_counties['TotalPop'].mean())"
   ]
  },
  {
   "cell_type": "markdown",
   "metadata": {},
   "source": [
    "### 3. Examining relationship between two variables"
   ]
  },
  {
   "cell_type": "markdown",
   "metadata": {},
   "source": [
    "- Is income per capita of a county correlated with the unemployment?"
   ]
  },
  {
   "cell_type": "code",
   "execution_count": 121,
   "metadata": {},
   "outputs": [
    {
     "data": {
      "text/plain": [
       "PearsonRResult(statistic=0.2646136320394489, pvalue=9.942215354239015e-53)"
      ]
     },
     "execution_count": 121,
     "metadata": {},
     "output_type": "execute_result"
    }
   ],
   "source": [
    "stats.pearsonr(df['IncomePerCap'],df['Employed'])"
   ]
  },
  {
   "cell_type": "markdown",
   "metadata": {},
   "source": [
    "- There is a small (0.26), but significant (p < 0.05) positive correlation."
   ]
  },
  {
   "cell_type": "code",
   "execution_count": 122,
   "metadata": {},
   "outputs": [
    {
     "data": {
      "text/plain": [
       "SignificanceResult(statistic=0.30770631560595474, pvalue=1.415296431173735e-71)"
      ]
     },
     "execution_count": 122,
     "metadata": {},
     "output_type": "execute_result"
    }
   ],
   "source": [
    "stats.spearmanr(df['IncomePerCap'],df['Employed'])"
   ]
  },
  {
   "cell_type": "markdown",
   "metadata": {},
   "source": [
    "- Spearman rank coorrelation is also significant."
   ]
  },
  {
   "cell_type": "markdown",
   "metadata": {},
   "source": [
    "### 4. Hypothesis testing"
   ]
  },
  {
   "cell_type": "markdown",
   "metadata": {},
   "source": [
    "- Is income per capita higher in New York counties compared to California counties?"
   ]
  },
  {
   "cell_type": "code",
   "execution_count": 123,
   "metadata": {},
   "outputs": [
    {
     "data": {
      "text/plain": [
       "28189.75806451613"
      ]
     },
     "execution_count": 123,
     "metadata": {},
     "output_type": "execute_result"
    }
   ],
   "source": [
    "df.loc[df['State'] == 'New York']['IncomePerCap'].mean()"
   ]
  },
  {
   "cell_type": "code",
   "execution_count": 124,
   "metadata": {},
   "outputs": [
    {
     "data": {
      "text/plain": [
       "27902.603448275862"
      ]
     },
     "execution_count": 124,
     "metadata": {},
     "output_type": "execute_result"
    }
   ],
   "source": [
    "df.loc[df['State'] == 'California']['IncomePerCap'].mean()"
   ]
  },
  {
   "cell_type": "markdown",
   "metadata": {},
   "source": [
    "- We see that there is a ~300$ gap. Quite a lot!\n",
    "- But is it significantly higher? Let's use a t-test. This is a two-sided test for the null hypothesis that the two independent samples have identical average (expected) values. "
   ]
  },
  {
   "cell_type": "code",
   "execution_count": 125,
   "metadata": {},
   "outputs": [
    {
     "data": {
      "text/plain": [
       "TtestResult(statistic=0.19788117232375713, pvalue=0.8434785239169611, df=118.0)"
      ]
     },
     "execution_count": 125,
     "metadata": {},
     "output_type": "execute_result"
    }
   ],
   "source": [
    "stats.ttest_ind(df.loc[df['State'] == 'New York']['IncomePerCap'], df.loc[df['State'] == 'California']['IncomePerCap'])"
   ]
  },
  {
   "cell_type": "markdown",
   "metadata": {},
   "source": [
    "- p is not smaller than 0.05 -> we cannot reject the null hypothesis that the income is the same -> there is no significant difference"
   ]
  },
  {
   "cell_type": "markdown",
   "metadata": {},
   "source": [
    "### 5. How to measure uncertainty\n",
    "- Now we see the importance of mesuring uncertainty and indicating it on data visualizations.\n",
    "- Visual inspection of 95% confidence intervals lets us see that the difference is not significant (the errorbars are overlapping)."
   ]
  },
  {
   "cell_type": "code",
   "execution_count": 126,
   "metadata": {},
   "outputs": [
    {
     "data": {
      "text/plain": [
       "(25000.0, 32000.0)"
      ]
     },
     "execution_count": 126,
     "metadata": {},
     "output_type": "execute_result"
    },
    {
     "data": {
      "image/png": "[encoded data removed]",
      "text/plain": [
       "<Figure size 640x480 with 1 Axes>"
      ]
     },
     "metadata": {},
     "output_type": "display_data"
    }
   ],
   "source": [
    "ax = sns.barplot(x=\"State\", y=\"IncomePerCap\", data=df.loc[df['State'].isin(['New York','California'])])\n",
    "plt.ylim([25000,32000])"
   ]
  },
  {
   "cell_type": "markdown",
   "metadata": {},
   "source": [
    "# Exercise 1: Boosting the economy by incentivizing self-employment\n",
    "\n",
    "Assume the biggest priority of the local government in 2018 is to increase per-capita income. To do so, the officials plan to adopt a strategy for incentivizing self-employment through a series of campaigns, educational programs, and dedicated funds.\n",
    "\n",
    "Since it is unethical and impossible in this setting to run a controlled experiment involving citizens (e.g., fire employees and force them to self-employ), the officials have asked you, the data scientist, to establish the effect of self-employment on the economy, relying on observational data.\n",
    "\n",
    "**A)** Using suitable methods, determine and quantify the dependency between the percentage of self-employed citizens and per capita income across all 3,212 US counties. Do citizens in counties that have a higher percentage of self-employed people earn more per capita?"
   ]
  },
  {
   "cell_type": "code",
   "execution_count": 127,
   "metadata": {},
   "outputs": [
    {
     "name": "stdout",
     "output_type": "stream",
     "text": [
      "Correlation coefficient: 0.08727386609551788\n",
      "P-value: 7.052861196524553e-07\n"
     ]
    }
   ],
   "source": [
    "#Is income per capita of a county correlated with the self-employment?\n",
    "correlation, p_value = stats.pearsonr(df['IncomePerCap'],df['SelfEmployed'])\n",
    "print(\"Correlation coefficient:\", correlation)\n",
    "print(\"P-value:\", p_value)"
   ]
  },
  {
   "cell_type": "markdown",
   "metadata": {},
   "source": [
    "AD - In summary:\n",
    "\n",
    "- There is a weak positive correlation between the percentage of self-employed citizens and per capita income across all U.S. counties. This means that, on average, counties with a higher percentage of self-employed citizens tend to have higher per capita income, but the relationship is not very strong.\n",
    "\n",
    "Based on these results, it appears that, on a national scale, there is a positive association between the percentage of self-employed citizens and per capita income, but the effect is relatively weak. Counties with a higher percentage of self-employed individuals tend to have slightly higher per capita income. However, it's essential to note that correlation does not imply causation, and other factors could be influencing this relationship."
   ]
  },
  {
   "cell_type": "markdown",
   "metadata": {},
   "source": [
    "**B)** The pilot program will involve all counties within a limited set of three US states. Set A includes Wisconsin, Tennessee, and  Minnesota. Quantify the dependency of per-capita income on self-employment rates across all the counties in set A."
   ]
  },
  {
   "cell_type": "code",
   "execution_count": 128,
   "metadata": {},
   "outputs": [
    {
     "name": "stdout",
     "output_type": "stream",
     "text": [
      "Correlation coefficient: -0.202293507365215\n",
      "P-value: 0.0011881639322138644\n"
     ]
    }
   ],
   "source": [
    "# Create a subset DataFrame for the counties in set A\n",
    "set_A_states = ['Wisconsin', 'Tennessee', 'Minnesota']\n",
    "df_set_A = df[df['State'].isin(set_A_states)]\n",
    "\n",
    "# Calculate the Pearson correlation between 'IncomePerCap' and 'SelfEmployed' for set A\n",
    "correlation, p_value = stats.pearsonr(df_set_A['IncomePerCap'], df_set_A['SelfEmployed'])\n",
    "\n",
    "print(\"Correlation coefficient:\", correlation)\n",
    "print(\"P-value:\", p_value)"
   ]
  },
  {
   "cell_type": "markdown",
   "metadata": {},
   "source": [
    "AD - Based on these results:\n",
    "\n",
    "- There is a weak negative correlation between self-employment rates and per-capita income in the counties of set A (Wisconsin, Tennessee, and Minnesota). This means that, on average, as self-employment rates increase, per-capita income tends to decrease, but the relationship is not very strong.\n",
    "\n",
    "In practical terms, it suggests that, in this specific subset of states, increasing self-employment rates may have a negative impact on per-capita income, but the impact is not very strong. The local government should consider this information when designing and implementing their pilot program to incentivize self-employment while also addressing the potential challenges to per-capita income."
   ]
  },
  {
   "cell_type": "markdown",
   "metadata": {},
   "source": [
    "**C)** In which state within set A is the observed effect of self-employment on per-capita income the strongest?"
   ]
  },
  {
   "cell_type": "code",
   "execution_count": 129,
   "metadata": {},
   "outputs": [
    {
     "name": "stdout",
     "output_type": "stream",
     "text": [
      "The state with the strongest effect: Wisconsin\n",
      "Correlation coefficient for the strongest effect: -0.32905300016378525\n"
     ]
    }
   ],
   "source": [
    "correlation_results = {}\n",
    "\n",
    "for state in set_A_states:\n",
    "    df_state = df[df['State'] == state]\n",
    "    \n",
    "    # Calculate the Pearson correlation between 'IncomePerCap' and 'SelfEmployed' for the state\n",
    "    correlation, _ = stats.pearsonr(df_state['IncomePerCap'], df_state['SelfEmployed'])\n",
    "    correlation_results[state] = correlation\n",
    "\n",
    "# Find the state with the highest absolute correlation\n",
    "strongest_effect_state = max(correlation_results, key=lambda state: abs(correlation_results[state]))\n",
    "\n",
    "print(\"The state with the strongest effect:\", strongest_effect_state)\n",
    "print(\"Correlation coefficient for the strongest effect:\", correlation_results[strongest_effect_state])"
   ]
  },
  {
   "cell_type": "markdown",
   "metadata": {},
   "source": [
    "**D)** Set B includes New Jersey, Kansas, and Rhode Island. Repeat the analysis from steps B and C above, but now for set B. In which of the two sets A and B (if any) would you recommend incentivizing self-employment? Explain your reasoning. Hint: It is useful to add a notion of confidence to your results and explore the data visually."
   ]
  },
  {
   "cell_type": "code",
   "execution_count": 130,
   "metadata": {},
   "outputs": [
    {
     "name": "stdout",
     "output_type": "stream",
     "text": [
      "Correlation coefficient: -0.2322214134608569\n",
      "P-value: 0.0076074930428573165\n",
      "The state with the strongest effect: Rhode Island\n",
      "Correlation coefficient for the strongest effect: 0.9021788382149805\n"
     ]
    }
   ],
   "source": [
    "# Create a subset DataFrame for the counties in set B\n",
    "set_B_states = ['New Jersey', 'Kansas', 'Rhode Island']\n",
    "df_set_B = df[df['State'].isin(set_B_states)]\n",
    "\n",
    "# B) Calculate the Pearson correlation between 'IncomePerCap' and 'SelfEmployed' for set A\n",
    "correlation, p_value = stats.pearsonr(df_set_B['IncomePerCap'], df_set_B['SelfEmployed'])\n",
    "\n",
    "print(\"Correlation coefficient:\", correlation)\n",
    "print(\"P-value:\", p_value)\n",
    "\n",
    "# C)\n",
    "correlation_results = {}\n",
    "\n",
    "for state in set_B_states:\n",
    "    df_state = df[df['State'] == state]\n",
    "    \n",
    "    # Calculate the Pearson correlation between 'IncomePerCap' and 'SelfEmployed' for the state\n",
    "    correlation, _ = stats.pearsonr(df_state['IncomePerCap'], df_state['SelfEmployed'])\n",
    "    correlation_results[state] = correlation\n",
    "\n",
    "# Find the state with the highest absolute correlation\n",
    "strongest_effect_state = max(correlation_results, key=lambda state: abs(correlation_results[state]))\n",
    "\n",
    "print(\"The state with the strongest effect:\", strongest_effect_state)\n",
    "print(\"Correlation coefficient for the strongest effect:\", correlation_results[strongest_effect_state])"
   ]
  },
  {
   "cell_type": "code",
   "execution_count": 131,
   "metadata": {},
   "outputs": [
    {
     "data": {
      "image/png": "[encoded data removed]",
      "text/plain": [
       "<Figure size 1000x600 with 1 Axes>"
      ]
     },
     "metadata": {},
     "output_type": "display_data"
    }
   ],
   "source": [
    "# Initialize a list to store results\n",
    "results = []\n",
    "\n",
    "for state in set_B_states:\n",
    "    df_state = df[df['State'] == state]\n",
    "    \n",
    "    # Calculate the mean and confidence interval for 'IncomePerCap' within each state\n",
    "    mean_income = df_state['IncomePerCap'].mean()\n",
    "    confidence_interval = sns.utils.ci(df_state['IncomePerCap'])\n",
    "    \n",
    "    results.append({'State': state, 'Mean_Income': mean_income, 'CI_Lower': confidence_interval[0], 'CI_Upper': confidence_interval[1]})\n",
    "\n",
    "# Create a DataFrame from the results\n",
    "results_df = pd.DataFrame(results)\n",
    "\n",
    "# Plot the barplot\n",
    "plt.figure(figsize=(10, 6))\n",
    "sns.barplot(x='State', y='Mean_Income', data=results_df, yerr=(results_df['Mean_Income'] - results_df['CI_Lower'], results_df['CI_Upper'] - results_df['Mean_Income']))\n",
    "plt.ylim([10000,55000])\n",
    "plt.xlabel('State')\n",
    "plt.ylabel('Mean IncomePerCap')\n",
    "plt.title('Mean IncomePerCap with Confidence Intervals for Set B States')\n",
    "plt.show()\n"
   ]
  },
  {
   "cell_type": "code",
   "execution_count": 132,
   "metadata": {},
   "outputs": [
    {
     "data": {
      "image/png": "[encoded data removed]",
      "text/plain": [
       "<Figure size 1000x600 with 1 Axes>"
      ]
     },
     "metadata": {},
     "output_type": "display_data"
    }
   ],
   "source": [
    "# Initialize a list to store results\n",
    "results = []\n",
    "\n",
    "for state in set_A_states:\n",
    "    df_state = df[df['State'] == state]\n",
    "    \n",
    "    # Calculate the mean and confidence interval for 'IncomePerCap' within each state\n",
    "    mean_income = df_state['IncomePerCap'].mean()\n",
    "    confidence_interval = sns.utils.ci(df_state['IncomePerCap'])\n",
    "    \n",
    "    results.append({'State': state, 'Mean_Income': mean_income, 'CI_Lower': confidence_interval[0], 'CI_Upper': confidence_interval[1]})\n",
    "\n",
    "# Create a DataFrame from the results\n",
    "results_df = pd.DataFrame(results)\n",
    "\n",
    "# Plot the barplot\n",
    "plt.figure(figsize=(10, 6))\n",
    "sns.barplot(x='State', y='Mean_Income', data=results_df, yerr=(results_df['Mean_Income'] - results_df['CI_Lower'], results_df['CI_Upper'] - results_df['Mean_Income']))\n",
    "plt.ylim([10000,55000])\n",
    "plt.xlabel('State')\n",
    "plt.ylabel('Mean IncomePerCap')\n",
    "plt.title('Mean IncomePerCap with Confidence Intervals for Set B States')\n",
    "plt.show()"
   ]
  },
  {
   "cell_type": "markdown",
   "metadata": {},
   "source": [
    "# Exercise 2. Data visualization and read the stats comprehension and interpretation questions.\n",
    "\n",
    "- As part of the quizes, two homeworks and the final exam, you will be at times asked to interpret your result based on the understanding of underlying concepts. The questions below can help you practice and get a sense of how well you understand the concepts covered in the class so far. Can you answer these questions confidently?"
   ]
  },
  {
   "cell_type": "markdown",
   "metadata": {},
   "source": [
    "### Question 1. The yearly salaries (in thousands of CHF) of 7000 people are summarized in the following box plot. If the 20th percentile of the salaries is 110,000, how many people earn between 110,000 and 114,000?\n",
    "\n",
    "- a) 2100\n",
    "- b) 700\n",
    "- c) 350\n",
    "- d) 70"
   ]
  },
  {
   "cell_type": "markdown",
   "metadata": {},
   "source": [
    "<img src=\"boxplot.png\" style=\"width: 400px;\" align=\"left\"/>"
   ]
  },
  {
   "cell_type": "code",
   "execution_count": 133,
   "metadata": {},
   "outputs": [
    {
     "name": "stdout",
     "output_type": "stream",
     "text": [
      "350.0\n"
     ]
    }
   ],
   "source": [
    "percentage = (25 - 20)/100\n",
    "rep = percentage*7000\n",
    "print(rep)"
   ]
  },
  {
   "cell_type": "markdown",
   "metadata": {},
   "source": [
    "### Question 2. What visualizations are suitable for getting insights about the distribution of a single continuous variable?\n",
    "\n",
    "- a) Barplot and histogram\n",
    "- b) Boxplot and histogram\n",
    "- c) Scatterplot and boxplot\n",
    "- d) Barplot, boxplot, and histogram"
   ]
  },
  {
   "cell_type": "code",
   "execution_count": 134,
   "metadata": {},
   "outputs": [],
   "source": [
    "# b) Boxplot and histogram"
   ]
  },
  {
   "cell_type": "markdown",
   "metadata": {},
   "source": [
    "AD :\n",
    "\n",
    "The most suitable visualizations for getting insights about the distribution of a single continuous variable are a boxplot and a histogram. \n",
    "\n",
    "- A **histogram** provides a graphical representation of the frequency or distribution of the data points in a continuous variable. It helps you understand the shape, central tendency, and spread of the data.\n",
    "\n",
    "- A **boxplot** (box-and-whisker plot) is also used to understand the distribution of data. It shows the median, quartiles, and potential outliers, providing a summary of the data's central tendency and spread. \n",
    "\n",
    "While barplots and scatterplots can be useful for different purposes, they are typically used for categorical or discrete variables or for visualizing relationships between two variables."
   ]
  },
  {
   "cell_type": "markdown",
   "metadata": {},
   "source": [
    "### Question 3. In a new groundbreaking study, 28 out of 100 patients reported improvements after taking a new medicine. It is known that, when given a placebo, 20% of the patients report feeling better. What is the p-value assuming the null hypothesis that the probability of successful treatment in this groundbreaking study is the same as the probability of reporting feeling better under placebo, according to a one-sided binomial test? Hint: you may use the statsmodels.stats.proportion.binom_test function.\n",
    "\n",
    "- a) 0.00034\n",
    "- b) 0.0034\n",
    "- c) 0.034\n",
    "- d) 0.34"
   ]
  },
  {
   "cell_type": "code",
   "execution_count": 21,
   "metadata": {},
   "outputs": [
    {
     "name": "stdout",
     "output_type": "stream",
     "text": [
      "p-value: BinomTestResult(k=28, n=100, alternative='greater', statistic=0.28, pvalue=0.03415162963907485)\n"
     ]
    }
   ],
   "source": [
    "# Number of patients in the groundbreaking study\n",
    "total_patients = 100\n",
    "\n",
    "# Number of patients who reported improvements in the groundbreaking study\n",
    "improved_patients = 28\n",
    "\n",
    "# Probability of reporting feeling better under placebo\n",
    "placebo_probability = 0.20\n",
    "\n",
    "# Perform a one-sided binomial test\n",
    "p_value = stats.binomtest(improved_patients, total_patients, placebo_probability, alternative='greater')\n",
    "\n",
    "print(\"p-value:\", p_value)"
   ]
  },
  {
   "cell_type": "markdown",
   "metadata": {},
   "source": [
    "AD : Interpretation of the results:\n",
    "\n",
    "- The p-value (0.034) is less than the common significance level of 0.05 (5%).\n",
    "\n",
    "- Since the p-value is smaller than 0.05, it suggests that the observed result (28 patients reporting improvements) is statistically significant.\n",
    "\n",
    "- In this case, you have enough evidence to reject the null hypothesis.\n",
    "\n",
    "- The null hypothesis, in this case, is that the new medicine's success rate is the same as the placebo's. With a p-value of 0.034, you have evidence to conclude that the new medicine's effect is significantly different from that of the placebo."
   ]
  },
  {
   "cell_type": "markdown",
   "metadata": {},
   "source": [
    "### Question 4. The 95% confidence interval of the average height of 1000 people using bootstrap resampling with 10000 bootstrap samples is calculated by:\n",
    "\n",
    "- a) Sampling 1000 height values with replacement and computing the mean. This is repeated 10000 times to create a sorted list of the 10000 means. The CI is defined by the 500th and the 9500th value in sorted order.\n",
    "- b) Sampling 10000 height values without replacement and computing the mean. This is repeated 1000 times to create a sorted list of the 1000 means. The CI is defined by the 25th and the 975th value in sorted order.\n",
    "- c) Sampling 1000 height values with replacement and computing the mean. This is repeated 10000 times to create a sorted list of the 10000 means. The CI is defined by the 250th and the 9750th value in sorted order.\n",
    "- d) Sampling 1000 height values without replacement and computing the mean. This is repeated 10000 times to create a sorted list of the 10000 means. The CI is defined by the 500th and the 9500th value in sorted order.\n",
    "\n",
    "### Implement your bootstrapping function that you will use in the rest of the course. It should take an array and the number of iterations as inputs, and output 95% confidence intervals of the mean."
   ]
  },
  {
   "cell_type": "code",
   "execution_count": null,
   "metadata": {},
   "outputs": [],
   "source": [
    "#c) Sampling 1000 height values with replacement and computing the mean. This is repeated 10000 times to create a sorted list of the 10000 means. \n",
    "# The CI is defined by the 250th and the 9750th value in sorted order.\n",
    "\n",
    "import numpy as np\n",
    "\n",
    "def bootstrap_mean_confidence_interval(data, num_iterations, alpha=0.05):\n",
    "    means = []\n",
    "\n",
    "    for _ in range(num_iterations):\n",
    "        # Resample with replacement\n",
    "        resampled_data = np.random.choice(data, size=len(data), replace=True)\n",
    "        resampled_mean = np.mean(resampled_data)\n",
    "        means.append(resampled_mean)\n",
    "\n",
    "    # Calculate the lower and upper percentiles\n",
    "    lower_percentile = 100 * alpha / 2\n",
    "    upper_percentile = 100 * (1 - alpha / 2)\n",
    "\n",
    "    lower_bound = np.percentile(means, lower_percentile)\n",
    "    upper_bound = np.percentile(means, upper_percentile)\n",
    "\n",
    "    return lower_bound, upper_bound\n"
   ]
  },
  {
   "cell_type": "markdown",
   "metadata": {},
   "source": [
    "### Question 5. A study conducted at EPFL revealed a negative Spearman’s correlation between GPA and entry-level job salary. Which of the following statements is true?\n",
    "\n",
    "- a) There could be a positive Spearman’s correlation between GPA and entry-level job salary in every single department of EPFL.\n",
    "- b) Spearman correlation between GPA and entry-level job salary in every single department has to be positive.\n",
    "- c) Across all levels, as opposed to entry-level only, higher GPA scores are associated with higher job salaries.\n",
    "- d) We can infer that finishing EPFL with a higher GPA causes you to have a lower entry-level job salary."
   ]
  },
  {
   "cell_type": "code",
   "execution_count": null,
   "metadata": {},
   "outputs": [],
   "source": [
    "# a) There could be a positive Spearman’s correlation between GPA and entry-level job salary in every single department of EPFL."
   ]
  },
  {
   "cell_type": "markdown",
   "metadata": {},
   "source": [
    "AD : In the overall EPFL the Spearman's correlation could be positive even if in each department it's negative like for example : if I have a GPA of 5/6 in MECA and my entry salary is  80'000 and my friend in MICRO has a GPA of 6/6 but his entry salary is 75'000 the overall Spearman's correlation is negative !  "
   ]
  },
  {
   "cell_type": "markdown",
   "metadata": {},
   "source": [
    "### Question 6. The average number of requests per page during a day on a large website is 200, while the median is 15. \n",
    "\n",
    "- a) You can assume that the distribution is heavy-tailed.\n",
    "- b) You are dealing with a left-skewed distribution.\n",
    "- c) Half of the pages get more than 200 requests.\n",
    "- d) None of the above."
   ]
  },
  {
   "cell_type": "code",
   "execution_count": null,
   "metadata": {},
   "outputs": [],
   "source": [
    "# d) None of the above"
   ]
  },
  {
   "cell_type": "markdown",
   "metadata": {},
   "source": [
    "AD : \n",
    "\n",
    "The average (mean) number of requests per page and the median being significantly different (in this case, 200 and 15, respectively) does not necessarily imply a specific distribution shape or characteristics such as heavy-tailed or left-skewed. \n",
    "\n",
    "The average and median are two different measures of central tendency that provide information about the data's location but do not provide information about the shape of the distribution. A heavy-tailed or left-skewed distribution might have different characteristics, but those characteristics are not implied solely by the difference between the mean and median.\n",
    "\n",
    "Additionally, it is not possible to determine that half of the pages receive more than 200 requests based solely on the information provided. You would need more specific data about the distribution to make such a statement.\n",
    "\n",
    "The data is not necessarily heavy-tailed nor skewed, a single outlier could shift the average."
   ]
  }
 ],
 "metadata": {
  "kernelspec": {
   "display_name": "Python 3 (ipykernel)",
   "language": "python",
   "name": "python3"
  },
  "language_info": {
   "codemirror_mode": {
    "name": "ipython",
    "version": 3
   },
   "file_extension": ".py",
   "mimetype": "text/x-python",
   "name": "python",
   "nbconvert_exporter": "python",
   "pygments_lexer": "ipython3",
   "version": "3.9.18"
  },
  "varInspector": {
   "cols": {
    "lenName": 16,
    "lenType": 16,
    "lenVar": 40
   },
   "kernels_config": {
    "python": {
     "delete_cmd_postfix": "",
     "delete_cmd_prefix": "del ",
     "library": "var_list.py",
     "varRefreshCmd": "print(var_dic_list())"
    },
    "r": {
     "delete_cmd_postfix": ") ",
     "delete_cmd_prefix": "rm(",
     "library": "var_list.r",
     "varRefreshCmd": "cat(var_dic_list()) "
    }
   },
   "types_to_exclude": [
    "module",
    "function",
    "builtin_function_or_method",
    "instance",
    "_Feature"
   ],
   "window_display": false
  }
 },
 "nbformat": 4,
 "nbformat_minor": 4
}
