{
 "cells": [
  {
   "cell_type": "markdown",
   "metadata": {},
   "source": [
    "### Welcome to the exercise about observational studies! This exercise will be hands on, and you will be able to practise the skills you developed so far!"
   ]
  },
  {
   "cell_type": "markdown",
   "metadata": {},
   "source": [
    "## Propensity score matching\n",
    "\n",
    "In this exercise, you will apply [propensity score matching](http://www.stewartschultz.com/statistics/books/Design%20of%20observational%20studies.pdf), which we discussed in lecture 6 (\"Observational studies\"), in order to draw conclusions from an observational study.\n",
    "\n",
    "We will work with a by-now classic dataset from Robert LaLonde's study \"[Evaluating the Econometric Evaluations of Training Programs](http://people.hbs.edu/nashraf/LaLonde_1986.pdf)\" (1986).\n",
    "The study investigated the effect of a job training program (\"National Supported Work Demonstration\") on the real earnings of an individual, a couple of years after completion of the program.\n",
    "Your task is to determine the effectiveness of the \"treatment\" represented by the job training program."
   ]
  },
  {
   "cell_type": "markdown",
   "metadata": {},
   "source": [
    "#### Dataset description\n",
    "\n",
    "- `treat`: 1 if the subject participated in the job training program, 0 otherwise\n",
    "- `age`: the subject's age\n",
    "- `educ`: years of education\n",
    "- `race`: categorical variable with three possible values: Black, Hispanic, or White\n",
    "- `married`: 1 if the subject was married at the time of the training program, 0 otherwise\n",
    "- `nodegree`: 1 if the subject has earned no school degree, 0 otherwise\n",
    "- `re74`: real earnings in 1974 (pre-treatment)\n",
    "- `re75`: real earnings in 1975 (pre-treatment)\n",
    "- `re78`: real earnings in 1978 (outcome)"
   ]
  },
  {
   "cell_type": "markdown",
   "metadata": {},
   "source": [
    "If you want to deepen your knowledge on propensity scores and observational studies, we highly recommend Rosenbaum's excellent book on the [\"Design of Observational Studies\"](http://www.stewartschultz.com/statistics/books/Design%20of%20observational%20studies.pdf). Even just reading the first chapter (18 pages) will help you a lot."
   ]
  },
  {
   "cell_type": "code",
   "execution_count": 36,
   "metadata": {
    "tags": []
   },
   "outputs": [],
   "source": [
    "import pandas as pd\n",
    "import pandas as pd\n",
    "import numpy as np\n",
    "import matplotlib.pyplot as plt\n",
    "import seaborn as sns\n",
    "import networkx as nx\n",
    "%matplotlib inline\n",
    "\n",
    "data_folder = './data/'\n",
    "df = pd.read_csv(data_folder + 'lalonde.csv')"
   ]
  },
  {
   "cell_type": "code",
   "execution_count": 37,
   "metadata": {},
   "outputs": [
    {
     "data": {
      "text/html": [
       "<div>\n",
       "<style scoped>\n",
       "    .dataframe tbody tr th:only-of-type {\n",
       "        vertical-align: middle;\n",
       "    }\n",
       "\n",
       "    .dataframe tbody tr th {\n",
       "        vertical-align: top;\n",
       "    }\n",
       "\n",
       "    .dataframe thead th {\n",
       "        text-align: right;\n",
       "    }\n",
       "</style>\n",
       "<table border=\"1\" class=\"dataframe\">\n",
       "  <thead>\n",
       "    <tr style=\"text-align: right;\">\n",
       "      <th></th>\n",
       "      <th>id</th>\n",
       "      <th>treat</th>\n",
       "      <th>age</th>\n",
       "      <th>educ</th>\n",
       "      <th>black</th>\n",
       "      <th>hispan</th>\n",
       "      <th>married</th>\n",
       "      <th>nodegree</th>\n",
       "      <th>re74</th>\n",
       "      <th>re75</th>\n",
       "      <th>re78</th>\n",
       "    </tr>\n",
       "  </thead>\n",
       "  <tbody>\n",
       "    <tr>\n",
       "      <th>49</th>\n",
       "      <td>NSW50</td>\n",
       "      <td>1</td>\n",
       "      <td>23</td>\n",
       "      <td>12</td>\n",
       "      <td>1</td>\n",
       "      <td>0</td>\n",
       "      <td>0</td>\n",
       "      <td>0</td>\n",
       "      <td>0.0000</td>\n",
       "      <td>0.0000</td>\n",
       "      <td>4843.176</td>\n",
       "    </tr>\n",
       "    <tr>\n",
       "      <th>224</th>\n",
       "      <td>PSID40</td>\n",
       "      <td>0</td>\n",
       "      <td>40</td>\n",
       "      <td>3</td>\n",
       "      <td>0</td>\n",
       "      <td>1</td>\n",
       "      <td>1</td>\n",
       "      <td>1</td>\n",
       "      <td>7576.4850</td>\n",
       "      <td>7426.2580</td>\n",
       "      <td>12104.060</td>\n",
       "    </tr>\n",
       "    <tr>\n",
       "      <th>389</th>\n",
       "      <td>PSID205</td>\n",
       "      <td>0</td>\n",
       "      <td>16</td>\n",
       "      <td>10</td>\n",
       "      <td>0</td>\n",
       "      <td>0</td>\n",
       "      <td>0</td>\n",
       "      <td>1</td>\n",
       "      <td>1026.6560</td>\n",
       "      <td>1224.5810</td>\n",
       "      <td>6847.785</td>\n",
       "    </tr>\n",
       "    <tr>\n",
       "      <th>160</th>\n",
       "      <td>NSW161</td>\n",
       "      <td>1</td>\n",
       "      <td>22</td>\n",
       "      <td>9</td>\n",
       "      <td>1</td>\n",
       "      <td>0</td>\n",
       "      <td>0</td>\n",
       "      <td>1</td>\n",
       "      <td>2192.8770</td>\n",
       "      <td>3836.9860</td>\n",
       "      <td>3462.564</td>\n",
       "    </tr>\n",
       "    <tr>\n",
       "      <th>533</th>\n",
       "      <td>PSID349</td>\n",
       "      <td>0</td>\n",
       "      <td>37</td>\n",
       "      <td>7</td>\n",
       "      <td>0</td>\n",
       "      <td>0</td>\n",
       "      <td>1</td>\n",
       "      <td>1</td>\n",
       "      <td>963.9593</td>\n",
       "      <td>0.0000</td>\n",
       "      <td>0.000</td>\n",
       "    </tr>\n",
       "    <tr>\n",
       "      <th>401</th>\n",
       "      <td>PSID217</td>\n",
       "      <td>0</td>\n",
       "      <td>32</td>\n",
       "      <td>16</td>\n",
       "      <td>1</td>\n",
       "      <td>0</td>\n",
       "      <td>0</td>\n",
       "      <td>0</td>\n",
       "      <td>17135.7500</td>\n",
       "      <td>1031.2260</td>\n",
       "      <td>0.000</td>\n",
       "    </tr>\n",
       "    <tr>\n",
       "      <th>172</th>\n",
       "      <td>NSW173</td>\n",
       "      <td>1</td>\n",
       "      <td>20</td>\n",
       "      <td>9</td>\n",
       "      <td>0</td>\n",
       "      <td>1</td>\n",
       "      <td>0</td>\n",
       "      <td>1</td>\n",
       "      <td>12260.7800</td>\n",
       "      <td>5875.0490</td>\n",
       "      <td>1358.643</td>\n",
       "    </tr>\n",
       "    <tr>\n",
       "      <th>121</th>\n",
       "      <td>NSW122</td>\n",
       "      <td>1</td>\n",
       "      <td>18</td>\n",
       "      <td>10</td>\n",
       "      <td>1</td>\n",
       "      <td>0</td>\n",
       "      <td>0</td>\n",
       "      <td>1</td>\n",
       "      <td>0.0000</td>\n",
       "      <td>798.9079</td>\n",
       "      <td>9737.154</td>\n",
       "    </tr>\n",
       "    <tr>\n",
       "      <th>95</th>\n",
       "      <td>NSW96</td>\n",
       "      <td>1</td>\n",
       "      <td>25</td>\n",
       "      <td>12</td>\n",
       "      <td>0</td>\n",
       "      <td>0</td>\n",
       "      <td>0</td>\n",
       "      <td>0</td>\n",
       "      <td>0.0000</td>\n",
       "      <td>0.0000</td>\n",
       "      <td>5587.503</td>\n",
       "    </tr>\n",
       "    <tr>\n",
       "      <th>1</th>\n",
       "      <td>NSW2</td>\n",
       "      <td>1</td>\n",
       "      <td>22</td>\n",
       "      <td>9</td>\n",
       "      <td>0</td>\n",
       "      <td>1</td>\n",
       "      <td>0</td>\n",
       "      <td>1</td>\n",
       "      <td>0.0000</td>\n",
       "      <td>0.0000</td>\n",
       "      <td>3595.894</td>\n",
       "    </tr>\n",
       "  </tbody>\n",
       "</table>\n",
       "</div>"
      ],
      "text/plain": [
       "          id  treat  age  educ  black  hispan  married  nodegree        re74  \\\n",
       "49     NSW50      1   23    12      1       0        0         0      0.0000   \n",
       "224   PSID40      0   40     3      0       1        1         1   7576.4850   \n",
       "389  PSID205      0   16    10      0       0        0         1   1026.6560   \n",
       "160   NSW161      1   22     9      1       0        0         1   2192.8770   \n",
       "533  PSID349      0   37     7      0       0        1         1    963.9593   \n",
       "401  PSID217      0   32    16      1       0        0         0  17135.7500   \n",
       "172   NSW173      1   20     9      0       1        0         1  12260.7800   \n",
       "121   NSW122      1   18    10      1       0        0         1      0.0000   \n",
       "95     NSW96      1   25    12      0       0        0         0      0.0000   \n",
       "1       NSW2      1   22     9      0       1        0         1      0.0000   \n",
       "\n",
       "          re75       re78  \n",
       "49      0.0000   4843.176  \n",
       "224  7426.2580  12104.060  \n",
       "389  1224.5810   6847.785  \n",
       "160  3836.9860   3462.564  \n",
       "533     0.0000      0.000  \n",
       "401  1031.2260      0.000  \n",
       "172  5875.0490   1358.643  \n",
       "121   798.9079   9737.154  \n",
       "95      0.0000   5587.503  \n",
       "1       0.0000   3595.894  "
      ]
     },
     "execution_count": 37,
     "metadata": {},
     "output_type": "execute_result"
    }
   ],
   "source": [
    "df.sample(10)"
   ]
  },
  {
   "cell_type": "markdown",
   "metadata": {},
   "source": [
    "## 1. A naive analysis\n",
    "\n",
    "Compare the distribution of the outcome variable (`re78`) between the two groups, using plots and numbers.\n",
    "To summarize and compare the distributions, you may use the techniques we discussed in lecture 4 (\"Descibing data\") and 3 (\"Visualizing data\").\n",
    "\n",
    "What might a naive \"researcher\" conclude from this superficial analysis?"
   ]
  },
  {
   "cell_type": "code",
   "execution_count": 38,
   "metadata": {},
   "outputs": [
    {
     "data": {
      "image/png": "[encoded data removed]",
      "text/plain": [
       "<Figure size 1000x600 with 2 Axes>"
      ]
     },
     "metadata": {},
     "output_type": "display_data"
    }
   ],
   "source": [
    "# Split the DataFrame into two groups\n",
    "group_treat_1 = df[df['treat'] == 1]\n",
    "group_treat_0 = df[df['treat'] == 0]\n",
    "\n",
    "# Create box plots\n",
    "plt.figure(figsize=(10, 6))\n",
    "plt.subplot(1, 2, 1)\n",
    "sns.boxplot(x='treat', y='re78', data=df)\n",
    "plt.title('Box Plot of re78 by Treat Group')\n",
    "\n",
    "# Create histograms\n",
    "plt.subplot(1, 2, 2)\n",
    "sns.histplot(data=group_treat_1, x='re78', kde=True, label='Treat=1', color='blue')\n",
    "sns.histplot(data=group_treat_0, x='re78', kde=True, label='Treat=0', color='red')\n",
    "plt.title('Histogram of re78 by Treat Group')\n",
    "plt.legend()\n",
    "\n",
    "plt.show()"
   ]
  },
  {
   "cell_type": "code",
   "execution_count": 39,
   "metadata": {},
   "outputs": [
    {
     "data": {
      "text/plain": [
       "count      185.000000\n",
       "mean      6349.143530\n",
       "std       7867.402218\n",
       "min          0.000000\n",
       "25%        485.229800\n",
       "50%       4232.309000\n",
       "75%       9642.999000\n",
       "max      60307.930000\n",
       "Name: re78, dtype: float64"
      ]
     },
     "execution_count": 39,
     "metadata": {},
     "output_type": "execute_result"
    }
   ],
   "source": [
    "group_treat_1['re78'].describe()"
   ]
  },
  {
   "cell_type": "code",
   "execution_count": 40,
   "metadata": {},
   "outputs": [
    {
     "data": {
      "text/plain": [
       "count      429.000000\n",
       "mean      6984.169742\n",
       "std       7294.161791\n",
       "min          0.000000\n",
       "25%        220.181300\n",
       "50%       4975.505000\n",
       "75%      11688.820000\n",
       "max      25564.670000\n",
       "Name: re78, dtype: float64"
      ]
     },
     "execution_count": 40,
     "metadata": {},
     "output_type": "execute_result"
    }
   ],
   "source": [
    "group_treat_0['re78'].describe()"
   ]
  },
  {
   "cell_type": "markdown",
   "metadata": {},
   "source": [
    "The treated group has:\n",
    "\n",
    "1. lower mean earnings value\n",
    "2. higher first (25%) percentile - low income interval (though)\n",
    "3. Some outliers of really high income rates - with maximum income\n",
    "\n",
    "The control group has:\n",
    "1. higher mean earnings value\n",
    "2. higher percentile (50%,75%)\n",
    "3. higher number of people with income in the interval 12000 - 27000\n",
    "\n",
    "We conclude that, in general, the control group outperforms the treated one in most of the cases."
   ]
  },
  {
   "cell_type": "markdown",
   "metadata": {},
   "source": [
    "## 2. A closer look at the data\n",
    "\n",
    "You're not naive, of course (and even if you are, you've learned certain things in ADA), so you aren't content with a superficial analysis such as the above.\n",
    "You're aware of the dangers of observational studies, so you take a closer look at the data before jumping to conclusions.\n",
    "\n",
    "For each feature in the dataset, compare its distribution in the treated group with its distribution in the control group, using plots and numbers.\n",
    "As above, you may use the techniques we discussed in class for summarizing and comparing the distributions.\n",
    "\n",
    "What do you observe?\n",
    "Describe what your observations mean for the conclusions drawn by the naive \"researcher\" from his superficial analysis."
   ]
  },
  {
   "cell_type": "code",
   "execution_count": 41,
   "metadata": {},
   "outputs": [],
   "source": [
    "# These are examples of possible plots\n",
    "# sns.pairplot(df)"
   ]
  },
  {
   "cell_type": "code",
   "execution_count": 42,
   "metadata": {},
   "outputs": [
    {
     "data": {
      "image/png": "[encoded data removed]",
      "text/plain": [
       "<Figure size 500x500 with 1 Axes>"
      ]
     },
     "metadata": {},
     "output_type": "display_data"
    }
   ],
   "source": [
    "# Age -- quite different, the members of the treated tend to be younger than the ones in the control group\n",
    "df.boxplot(by='treat', column='age', figsize = [5, 5], grid=True)\n",
    "plt.show()"
   ]
  },
  {
   "cell_type": "code",
   "execution_count": 43,
   "metadata": {},
   "outputs": [
    {
     "data": {
      "image/png": "[encoded data removed]",
      "text/plain": [
       "<Figure size 500x500 with 1 Axes>"
      ]
     },
     "metadata": {},
     "output_type": "display_data"
    }
   ],
   "source": [
    "# Education\n",
    "df.boxplot(by='treat', column='educ', figsize = [5, 5], grid=True)\n",
    "plt.show()"
   ]
  },
  {
   "cell_type": "code",
   "execution_count": 44,
   "metadata": {},
   "outputs": [
    {
     "data": {
      "image/png": "[encoded data removed]",
      "text/plain": [
       "<Figure size 640x480 with 1 Axes>"
      ]
     },
     "metadata": {},
     "output_type": "display_data"
    }
   ],
   "source": [
    "# Income in the previous year\n",
    "\n",
    "ax = sns.histplot(group_treat_1['re74'], stat='density', kde=True, color='blue', label='treated')\n",
    "ax = sns.histplot(group_treat_0['re74'], stat='density', kde=True, color='orange', label='control')\n",
    "ax.set(title='Income distribution comparison in 1974',xlabel='Income 1974', ylabel='Income density')\n",
    "plt.legend()\n",
    "plt.show()\n",
    "\n",
    "# As we can observe from this plot, the number of treated \n",
    "# members that were unemployed (income 0) before the training program is\n",
    "# quite high. So this might give us an intuition of how much the\n",
    "# program helped people to find a job, independently of the income \n",
    "# that they got eventually. "
   ]
  },
  {
   "cell_type": "code",
   "execution_count": 45,
   "metadata": {},
   "outputs": [
    {
     "data": {
      "image/png": "[encoded data removed]",
      "text/plain": [
       "<Figure size 700x500 with 1 Axes>"
      ]
     },
     "metadata": {},
     "output_type": "display_data"
    }
   ],
   "source": [
    "# Marriage\n",
    "\n",
    "group = df.groupby(['treat', 'married'])['married'].count()\n",
    "group = group.unstack()\n",
    "group = group.div(group.sum(axis=1), axis=0)\n",
    "pl = group.plot(kind='bar', figsize=[7,5], rot=0)\n",
    "pl.set_title('married')\n",
    "pl.set_ylabel('participants')\n",
    "pl.set_xlabel('group')\n",
    "plt.show()\n",
    "\n",
    "# The percentage of unmarried people between \n",
    "# the treated group is much higher than the married ones whereas\n",
    "# in the control group, the two categories are balanced. This might\n",
    "# be an indication of what type of people are included in \n",
    "# the program."
   ]
  },
  {
   "cell_type": "code",
   "execution_count": 46,
   "metadata": {},
   "outputs": [
    {
     "data": {
      "image/png": "[encoded data removed]",
      "text/plain": [
       "<Figure size 800x400 with 1 Axes>"
      ]
     },
     "metadata": {},
     "output_type": "display_data"
    }
   ],
   "source": [
    "# Race\n",
    "\n",
    "df['white'] = (~(df['black'].astype(bool) | df['hispan'].astype(bool))).astype(bool)\n",
    "\n",
    "df_group = df.groupby(df.treat)[['white', 'black', 'hispan']].sum()\n",
    "df_group = df_group.div(df_group.sum(axis=1), axis=0)\n",
    "pl = df_group.plot(kind='bar', figsize=[8,4], rot=0)\n",
    "pl.set_title('race')\n",
    "pl.set_ylabel('participants')\n",
    "pl.set_xlabel('group')\n",
    "plt.show()\n",
    "\n",
    "# white outnumber the other races in the control group, and on the \n",
    "# other hand, in the treated group the proportion of black is almost \n",
    "# the only one"
   ]
  },
  {
   "cell_type": "markdown",
   "metadata": {},
   "source": [
    "## 3. A propensity score model\n",
    "\n",
    "Use logistic regression to estimate propensity scores for all points in the dataset.\n",
    "You may use `statsmodels` to fit the logistic regression model and apply it to each data point to obtain propensity scores.\n",
    "\n",
    "Recall that the propensity score of a data point represents its probability of receiving the treatment, based on its pre-treatment features (in this case, age, education, pre-treatment income, etc.).\n",
    "To brush up on propensity scores, you may read chapter 3.3 of the above-cited book by Rosenbaum or [this article](https://www.ncbi.nlm.nih.gov/pmc/articles/PMC3144483/pdf/hmbr46-399.pdf).\n",
    "\n",
    "Note: you do not need a train/test split here. Train and apply the model on the entire dataset. If you're wondering why this is the right thing to do in this situation, recall that the propensity score model is not used in order to make predictions about unseen data. Its sole purpose is to balance the dataset across treatment groups.\n",
    "(See p. 74 of Rosenbaum's book for an explanation why slight overfitting is even good for propensity scores.\n",
    "If you want even more information, read [this article](https://www.ncbi.nlm.nih.gov/pmc/articles/PMC3144483/pdf/hmbr46-399.pdf).)"
   ]
  },
  {
   "cell_type": "code",
   "execution_count": 47,
   "metadata": {},
   "outputs": [
    {
     "name": "stdout",
     "output_type": "stream",
     "text": [
      "Optimization terminated successfully.\n",
      "         Current function value: 0.397267\n",
      "         Iterations 7\n",
      "                           Logit Regression Results                           \n",
      "==============================================================================\n",
      "Dep. Variable:                  treat   No. Observations:                  614\n",
      "Model:                          Logit   Df Residuals:                      605\n",
      "Method:                           MLE   Df Model:                            8\n",
      "Date:                Sat, 04 Nov 2023   Pseudo R-squ.:                  0.3508\n",
      "Time:                        11:42:27   Log-Likelihood:                -243.92\n",
      "converged:                       True   LL-Null:                       -375.75\n",
      "Covariance Type:            nonrobust   LLR p-value:                 2.194e-52\n",
      "==============================================================================\n",
      "                 coef    std err          z      P>|z|      [0.025      0.975]\n",
      "------------------------------------------------------------------------------\n",
      "Intercept     -2.8509      0.350     -8.147      0.000      -3.537      -2.165\n",
      "age            0.1559      0.134      1.162      0.245      -0.107       0.419\n",
      "educ           0.4240      0.171      2.477      0.013       0.088       0.759\n",
      "black          3.0654      0.287     10.698      0.000       2.504       3.627\n",
      "hispan         0.9836      0.426      2.311      0.021       0.149       1.818\n",
      "married       -0.8321      0.290     -2.866      0.004      -1.401      -0.263\n",
      "nodegree       0.7073      0.338      2.095      0.036       0.045       1.369\n",
      "re74          -0.4650      0.186     -2.497      0.013      -0.830      -0.100\n",
      "re75           0.1761      0.153      1.153      0.249      -0.123       0.476\n",
      "==============================================================================\n"
     ]
    }
   ],
   "source": [
    "import statsmodels.api as sm\n",
    "import statsmodels.formula.api as smf\n",
    "\n",
    "# Let's standardize the continuous features !\n",
    "df['age'] = (df['age'] - df['age'].mean())/df['age'].std()\n",
    "df['educ'] = (df['educ'] - df['educ'].mean())/df['educ'].std()\n",
    "df['re74'] = (df['re74'] - df['re74'].mean())/df['re74'].std()\n",
    "df['re75'] = (df['re75'] - df['re75'].mean())/df['re75'].std()\n",
    "\n",
    "# We dont take in the formula the re78 because this is an outcome\n",
    "formula='treat ~  age + educ + black + hispan + married + nodegree + re74 + re75'\n",
    "mod = smf.logit(formula, data=df)\n",
    "res = mod.fit()\n",
    "print(res.summary())\n"
   ]
  },
  {
   "cell_type": "code",
   "execution_count": 48,
   "metadata": {},
   "outputs": [
    {
     "name": "stdout",
     "output_type": "stream",
     "text": [
      "The propensity score of each data in this dataset is contained in the vector of shape (614,)\n",
      "The vector: [0.63876993 0.22463424 0.67824388 0.77632408 0.70163875 0.6990699\n",
      " 0.65368426 0.78972311 0.77983825 0.04292461 0.68901996 0.682444\n",
      " 0.64986767 0.56241073 0.60858629 0.72249036 0.70259562 0.73496416\n",
      " 0.71166489 0.66431981 0.76517492 0.13901525 0.12238224 0.76799791\n",
      " 0.71931601 0.60916715 0.77079713 0.26920316 0.71611962 0.76799791\n",
      " 0.71611962 0.6098168  0.59404299 0.64289289 0.66079247 0.77862159\n",
      " 0.56093965 0.45094835 0.5567796  0.73802599 0.64650679 0.09365296\n",
      " 0.64626932 0.09150549 0.75656387 0.59404299 0.64626932 0.68221881\n",
      " 0.56093965 0.65368426 0.68486666 0.61665323 0.75070545 0.66079247\n",
      " 0.61291686 0.71611962 0.7464048  0.37847866 0.60480778 0.13012192\n",
      " 0.64626932 0.68826176 0.7701718  0.77632408 0.53662873 0.7186015\n",
      " 0.77632408 0.07382733 0.43251547 0.70914659 0.71540019 0.76123332\n",
      " 0.57342619 0.66079247 0.76818297 0.13557377 0.65010403 0.69574047\n",
      " 0.80991743 0.76232821 0.66079247 0.63561643 0.1003413  0.70259562\n",
      " 0.68145169 0.80501207 0.20030468 0.77357253 0.07859089 0.6745632\n",
      " 0.61665323 0.71611962 0.77079713 0.64650679 0.81944355 0.08328409\n",
      " 0.68562935 0.71809625 0.74106492 0.25032725 0.73802599 0.74408081\n",
      " 0.77079713 0.75070545 0.75364638 0.76390177 0.70259562 0.68221881\n",
      " 0.78443531 0.52238792 0.59257719 0.20656996 0.628495   0.74120543\n",
      " 0.4062811  0.06254529 0.63730034 0.6475123  0.72659995 0.56631442\n",
      " 0.74816998 0.72785565 0.69809448 0.02495178 0.10175694 0.53484035\n",
      " 0.56639614 0.55919428 0.11300425 0.71871452 0.66990909 0.79063849\n",
      " 0.61560256 0.51049934 0.59743846 0.74567007 0.04275487 0.70735813\n",
      " 0.51149642 0.15215644 0.58410657 0.44030795 0.70268122 0.72545301\n",
      " 0.10300089 0.74884944 0.68487024 0.77355031 0.63267447 0.68173799\n",
      " 0.77737657 0.4538632  0.64611198 0.58607333 0.6200519  0.52646352\n",
      " 0.7222125  0.57863327 0.76869284 0.68832819 0.70900336 0.44571334\n",
      " 0.39689161 0.79408505 0.57223871 0.13895883 0.13090019 0.62493364\n",
      " 0.59033911 0.66235889 0.75809393 0.39094339 0.13747131 0.72803991\n",
      " 0.39388448 0.81592301 0.12427238 0.85315285 0.07733179 0.37897112\n",
      " 0.28701614 0.14916778 0.49468085 0.5074178  0.68962939 0.02611776\n",
      " 0.01599286 0.02600442 0.03850037 0.43290004 0.48672379 0.02158276\n",
      " 0.67258034 0.08445103 0.03969346 0.02837862 0.03002587 0.0476944\n",
      " 0.02578428 0.65696968 0.05604895 0.26551854 0.03907158 0.07317571\n",
      " 0.04027496 0.07782921 0.07220753 0.01183039 0.50868759 0.0299751\n",
      " 0.04452884 0.43343756 0.05793723 0.03167715 0.0282102  0.20761828\n",
      " 0.0320436  0.02489599 0.01705878 0.04839105 0.02928248 0.02856496\n",
      " 0.02537068 0.05435163 0.05206779 0.37356634 0.02126633 0.02486597\n",
      " 0.0201328  0.08494286 0.36518679 0.06206815 0.54600728 0.0199279\n",
      " 0.03910552 0.06300599 0.01636411 0.0179893  0.01963509 0.02818045\n",
      " 0.03154988 0.03996878 0.01097848 0.38896236 0.03211885 0.02618869\n",
      " 0.04149409 0.0486398  0.04850204 0.0186791  0.22259512 0.02822556\n",
      " 0.05336316 0.63855416 0.037331   0.04192456 0.06527501 0.03916926\n",
      " 0.05313769 0.02948683 0.1547291  0.10089079 0.03434568 0.20376775\n",
      " 0.03923661 0.02090329 0.06784554 0.04636993 0.38418863 0.01690087\n",
      " 0.09334203 0.02470454 0.05424168 0.09494931 0.06970078 0.16007795\n",
      " 0.04219493 0.04455294 0.461591   0.10186827 0.51411241 0.36192884\n",
      " 0.44870637 0.43566747 0.13495941 0.01026577 0.07986589 0.05041776\n",
      " 0.02112666 0.07960313 0.08880353 0.02837703 0.04153822 0.04304778\n",
      " 0.60521114 0.22407937 0.08588678 0.0662822  0.07344016 0.04775626\n",
      " 0.01788232 0.0162077  0.78917283 0.03964722 0.02208526 0.03915939\n",
      " 0.06529335 0.01005402 0.06473193 0.01517048 0.03500456 0.14300375\n",
      " 0.02324565 0.02522489 0.01636358 0.08860256 0.02095327 0.01536733\n",
      " 0.70659714 0.0479441  0.2699186  0.05274977 0.07792751 0.05912965\n",
      " 0.70508501 0.09431276 0.07149531 0.03018567 0.0459568  0.08105047\n",
      " 0.01699099 0.01973094 0.04464223 0.03417463 0.21287279 0.08449681\n",
      " 0.04875276 0.0731839  0.04798755 0.04550006 0.1006171  0.6196131\n",
      " 0.7390057  0.59473716 0.12773409 0.11542394 0.02441    0.02094582\n",
      " 0.17812874 0.02743969 0.0397435  0.05499693 0.01941455 0.01011418\n",
      " 0.11468487 0.11515593 0.06081341 0.68831057 0.0344824  0.03476283\n",
      " 0.0823834  0.13508896 0.04378315 0.73897749 0.10710477 0.02383786\n",
      " 0.12212155 0.10916183 0.11307622 0.11460021 0.25458123 0.74949341\n",
      " 0.25374406 0.681357   0.01346686 0.6267609  0.09644005 0.06104614\n",
      " 0.03666322 0.02583895 0.76413459 0.06608982 0.06447096 0.23788641\n",
      " 0.06385219 0.01333144 0.11568712 0.09479757 0.01736018 0.10302179\n",
      " 0.07563594 0.12280561 0.09503752 0.10584513 0.0340322  0.08195392\n",
      " 0.03896683 0.08173923 0.05276916 0.04804071 0.08225941 0.56160113\n",
      " 0.69347663 0.0699393  0.14337078 0.07584911 0.01548665 0.02394183\n",
      " 0.17052457 0.19543867 0.77891154 0.27919906 0.53948683 0.06778157\n",
      " 0.13737905 0.75122604 0.05002722 0.01568859 0.65755729 0.04073722\n",
      " 0.03041395 0.09202091 0.49171251 0.27975559 0.24258938 0.18367206\n",
      " 0.08537016 0.05710374 0.04075142 0.09060421 0.01151968 0.06826438\n",
      " 0.06113034 0.0172749  0.02120916 0.0918522  0.06529114 0.68531145\n",
      " 0.01596658 0.08709526 0.65176204 0.02608357 0.10874468 0.02026019\n",
      " 0.38516198 0.09112051 0.03641477 0.03426365 0.18375605 0.18879446\n",
      " 0.68565238 0.10611283 0.68201376 0.68970689 0.08841831 0.26124827\n",
      " 0.09700298 0.04651376 0.1233872  0.09389349 0.04996772 0.70931364\n",
      " 0.60516607 0.03184952 0.104733   0.10618524 0.10613076 0.03940614\n",
      " 0.01463259 0.10603095 0.02110982 0.0326477  0.0876521  0.0961032\n",
      " 0.11242131 0.56627812 0.03837521 0.48292497 0.04381719 0.26158781\n",
      " 0.00908019 0.01230095 0.01080916 0.04099799 0.20294667 0.01322512\n",
      " 0.02109171 0.02052078 0.0197858  0.05151795 0.05929817 0.02709352\n",
      " 0.42160328 0.01934884 0.03370571 0.02958268 0.06513912 0.05521422\n",
      " 0.07762541 0.06032791 0.05169448 0.03703398 0.03098272 0.03042766\n",
      " 0.02844184 0.05666685 0.06241362 0.09796399 0.0366198  0.08584347\n",
      " 0.69160171 0.17753518 0.03894835 0.10280376 0.74661503 0.41335828\n",
      " 0.09001581 0.54271376 0.19513575 0.610997   0.08053566 0.61143145\n",
      " 0.02298516 0.21619566 0.07323017 0.20130824 0.10027829 0.06837348\n",
      " 0.04301212 0.66289776 0.05972277 0.03888074 0.17001671 0.03880024\n",
      " 0.03859153 0.10097106 0.64803402 0.1206779  0.44466699 0.68308336\n",
      " 0.43739641 0.12067508 0.15749966 0.05921772 0.04626935 0.09861306\n",
      " 0.09668459 0.05879422 0.05539767 0.07738177 0.20857708 0.71931601\n",
      " 0.649618   0.07738177 0.67878861 0.11303087 0.69239042 0.64289289\n",
      " 0.75070545 0.670848   0.64626932 0.08971192 0.05912898 0.10709125\n",
      " 0.49417728 0.682444   0.06776399 0.07633609 0.12972391 0.1810027\n",
      " 0.64289289 0.63575388 0.75364638 0.75070545 0.06259243 0.10287901\n",
      " 0.71611962 0.0462848  0.04623897 0.12381573 0.07275185 0.08971192\n",
      " 0.64626932 0.73516649 0.71467967 0.71611962 0.07738177 0.05376946\n",
      " 0.11665805 0.12156128 0.71290136 0.08090646 0.670848   0.10526247\n",
      " 0.18465798 0.71931601 0.75186535 0.04869832 0.05812367 0.03889528\n",
      " 0.69185828 0.18319778 0.03919964 0.62101848 0.29939542 0.06325293\n",
      " 0.08971192 0.74707356 0.11145877 0.12314388 0.03456038 0.183351\n",
      " 0.3830323  0.08971192]\n"
     ]
    }
   ],
   "source": [
    "propensity_scores = res.predict()\n",
    "print('The propensity score of each data in this dataset is contained in the vector of shape', propensity_scores.shape)\n",
    "print('The vector:', propensity_scores)"
   ]
  },
  {
   "cell_type": "markdown",
   "metadata": {},
   "source": [
    "## 4. Balancing the dataset via matching\n",
    "\n",
    "Use the propensity scores to match each data point from the treated group with exactly one data point from the control group, while ensuring that each data point from the control group is matched with at most one data point from the treated group.\n",
    "(Hint: you may explore the `networkx` package in Python for predefined matching functions.)\n",
    "\n",
    "Your matching should maximize the similarity between matched subjects, as captured by their propensity scores.\n",
    "In other words, the sum (over all matched pairs) of absolute propensity-score differences between the two matched subjects should be minimized.\n",
    "\n",
    "This is how networkx library can help you do this. Each possible pair of (treated_person, control_person) is characterized by a similarity. This is how we can initialize a graph, and add an edge for one possible pair. We then need to add an edge for each possible pair.\n",
    "- G = nx.Graph()\n",
    "- G.add_weighted_edges_from([(control_person, treated_person, similarity)])\n",
    "Optimal matching is then found with:\n",
    "- matching = nx.max_weight_matching(G)\n",
    "\n",
    "After matching, you have as many treated as you have control subjects.\n",
    "Compare the outcomes (`re78`) between the two groups (treated and control).\n",
    "\n",
    "Also, compare again the feature-value distributions between the two groups, as you've done in part 2 above, but now only for the matched subjects.\n",
    "What do you observe?\n",
    "Are you closer to being able to draw valid conclusions now than you were before?"
   ]
  },
  {
   "cell_type": "code",
   "execution_count": 49,
   "metadata": {},
   "outputs": [],
   "source": [
    "# A possible approach:"
   ]
  },
  {
   "cell_type": "markdown",
   "metadata": {},
   "source": [
    "For this task, we implement the simplest, full optimal matching, and analyse the results.\n",
    "\n",
    "In order to perform matching between pairs, a distance/similarity function is needed. Since the library used for the matching (networkx) has a function that maximizes the sum of weights between pairs, it is natural to use a function that measures similarity.\n",
    "\n",
    "Wanting to minimize the difference of propensity scores between pairs, we define the similarity function between two instances $x$ and $y$ like:\n",
    "\n",
    "$$ similarity(x,y) = 1 - | propensity\\_score(x) - propensity\\_score(y) |$$\n",
    "This function captures the difference in scores like a distance, but since the distance defined like that would always be between 0 and 1, subtracting it from 1 would be a meaningful measure to use for similarity."
   ]
  },
  {
   "cell_type": "code",
   "execution_count": 50,
   "metadata": {},
   "outputs": [],
   "source": [
    "def get_similarity(propensity_score1, propensity_score2):\n",
    "    '''Calculate similarity for instances with given propensity scores'''\n",
    "    return 1-np.abs(propensity_score1-propensity_score2)"
   ]
  },
  {
   "cell_type": "code",
   "execution_count": 51,
   "metadata": {},
   "outputs": [],
   "source": [
    "df['Propensity_score'] = res.predict()\n",
    "\n",
    "# Separate the treatment and control groups\n",
    "treatment_df = df[df['treat'] == 1]\n",
    "control_df = df[df['treat'] == 0]\n",
    "\n",
    "# Create an empty undirected graph\n",
    "G = nx.Graph()\n",
    "\n",
    "# Loop through all the pairs of instances\n",
    "for control_id, control_row in control_df.iterrows():\n",
    "    for treatment_id, treatment_row in treatment_df.iterrows():\n",
    "\n",
    "        # Calculate the similarity \n",
    "        similarity = get_similarity(control_row['Propensity_score'], treatment_row['Propensity_score'])\n",
    "\n",
    "        # Add an edge between the two instances weighted by the similarity between them\n",
    "        G.add_weighted_edges_from([(control_id, treatment_id, similarity)])\n",
    "\n",
    "# Generate and return the maximum weight matching on the generated graph\n",
    "matching = nx.max_weight_matching(G)"
   ]
  },
  {
   "cell_type": "code",
   "execution_count": 52,
   "metadata": {},
   "outputs": [
    {
     "name": "stdout",
     "output_type": "stream",
     "text": [
      "[14, 232, 343, 140, 76, 35, 484, 153, 450, 165, 120, 57, 278, 281, 556, 52, 582, 116, 320, 519, 592, 415, 31, 180, 596, 410, 536, 68, 124, 141, 96, 39, 558, 344, 284, 119, 412, 148, 401, 36, 104, 15, 324, 517, 166, 341, 56, 47, 554, 145, 555, 604, 117, 111, 444, 110, 465, 568, 137, 369, 22, 12, 579, 139, 1, 611, 179, 100, 201, 250, 70, 95, 573, 7, 243, 67, 593, 215, 9, 24, 440, 38, 162, 523, 595, 570, 525, 181, 27, 208, 135, 133, 402, 603, 211, 90, 157, 82, 477, 538, 129, 560, 93, 84, 363, 34, 69, 571, 572, 171, 366, 75, 81, 54, 199, 550, 99, 41, 451, 2, 583, 590, 134, 184, 40, 114, 80, 144, 51, 172, 112, 178, 176, 514, 474, 77, 152, 190, 453, 0, 182, 408, 576, 422, 528, 88, 128, 17, 142, 37, 115, 364, 89, 461, 510, 19, 189, 253, 565, 174, 159, 380, 43, 21, 280, 311, 612, 551, 151, 260, 449, 594, 123, 529, 183, 389, 58, 585, 146, 86, 282, 107, 154, 105, 511, 294, 126, 6, 473, 479, 609, 20, 546, 61, 456, 607, 340, 125, 121, 4, 371, 42, 273, 161, 132, 83, 87, 424, 541, 71, 8, 169, 589, 261, 515, 437, 348, 44, 29, 143, 475, 127, 392, 72, 532, 386, 393, 160, 48, 507, 60, 455, 452, 149, 423, 59, 98, 535, 345, 118, 575, 92, 32, 318, 158, 608, 552, 25, 391, 295, 66, 354, 448, 177, 170, 584, 360, 103, 302, 173, 298, 63, 175, 293, 409, 49, 283, 370, 74, 163, 33, 65, 404, 355, 138, 425, 492, 122, 167, 45, 466, 376, 526, 164, 168, 268, 46, 275, 373, 26, 418, 601, 73, 102, 368, 79, 361, 230, 521, 94, 16, 263, 459, 150, 458, 113, 91, 513, 462, 469, 537, 569, 279, 563, 414, 375, 549, 442, 62, 108, 600, 557, 13, 106, 545, 564, 147, 30, 155, 136, 322, 367, 225, 540, 411, 574, 3, 192, 18, 5, 542, 50, 53, 11, 464, 357, 23, 435, 588, 64, 97, 55, 85, 334, 131, 156, 101, 217, 130, 387, 10, 383, 28, 539, 518, 109, 559, 372, 342, 78]\n"
     ]
    }
   ],
   "source": [
    "matched = [i[0] for i in list(matching)] + [i[1] for i in list(matching)]\n",
    "print(matched)"
   ]
  },
  {
   "cell_type": "code",
   "execution_count": 53,
   "metadata": {},
   "outputs": [
    {
     "data": {
      "text/html": [
       "<div>\n",
       "<style scoped>\n",
       "    .dataframe tbody tr th:only-of-type {\n",
       "        vertical-align: middle;\n",
       "    }\n",
       "\n",
       "    .dataframe tbody tr th {\n",
       "        vertical-align: top;\n",
       "    }\n",
       "\n",
       "    .dataframe thead th {\n",
       "        text-align: right;\n",
       "    }\n",
       "</style>\n",
       "<table border=\"1\" class=\"dataframe\">\n",
       "  <thead>\n",
       "    <tr style=\"text-align: right;\">\n",
       "      <th></th>\n",
       "      <th>id</th>\n",
       "      <th>treat</th>\n",
       "      <th>age</th>\n",
       "      <th>educ</th>\n",
       "      <th>black</th>\n",
       "      <th>hispan</th>\n",
       "      <th>married</th>\n",
       "      <th>nodegree</th>\n",
       "      <th>re74</th>\n",
       "      <th>re75</th>\n",
       "      <th>re78</th>\n",
       "      <th>white</th>\n",
       "      <th>Propensity_score</th>\n",
       "    </tr>\n",
       "  </thead>\n",
       "  <tbody>\n",
       "    <tr>\n",
       "      <th>14</th>\n",
       "      <td>NSW15</td>\n",
       "      <td>1</td>\n",
       "      <td>-1.048780</td>\n",
       "      <td>-1.243655</td>\n",
       "      <td>1</td>\n",
       "      <td>0</td>\n",
       "      <td>0</td>\n",
       "      <td>1</td>\n",
       "      <td>-0.703546</td>\n",
       "      <td>-0.662971</td>\n",
       "      <td>3023.8790</td>\n",
       "      <td>False</td>\n",
       "      <td>0.608586</td>\n",
       "    </tr>\n",
       "    <tr>\n",
       "      <th>232</th>\n",
       "      <td>PSID48</td>\n",
       "      <td>0</td>\n",
       "      <td>-0.239161</td>\n",
       "      <td>0.658697</td>\n",
       "      <td>1</td>\n",
       "      <td>0</td>\n",
       "      <td>1</td>\n",
       "      <td>0</td>\n",
       "      <td>-0.657876</td>\n",
       "      <td>1.443688</td>\n",
       "      <td>461.0507</td>\n",
       "      <td>False</td>\n",
       "      <td>0.546007</td>\n",
       "    </tr>\n",
       "    <tr>\n",
       "      <th>343</th>\n",
       "      <td>PSID159</td>\n",
       "      <td>0</td>\n",
       "      <td>0.064446</td>\n",
       "      <td>0.658697</td>\n",
       "      <td>1</td>\n",
       "      <td>0</td>\n",
       "      <td>0</td>\n",
       "      <td>0</td>\n",
       "      <td>0.266717</td>\n",
       "      <td>0.021503</td>\n",
       "      <td>7310.3130</td>\n",
       "      <td>False</td>\n",
       "      <td>0.594737</td>\n",
       "    </tr>\n",
       "    <tr>\n",
       "      <th>140</th>\n",
       "      <td>NSW141</td>\n",
       "      <td>1</td>\n",
       "      <td>-0.340363</td>\n",
       "      <td>-0.482714</td>\n",
       "      <td>1</td>\n",
       "      <td>0</td>\n",
       "      <td>0</td>\n",
       "      <td>1</td>\n",
       "      <td>0.709660</td>\n",
       "      <td>0.031477</td>\n",
       "      <td>4849.5590</td>\n",
       "      <td>False</td>\n",
       "      <td>0.584107</td>\n",
       "    </tr>\n",
       "    <tr>\n",
       "      <th>76</th>\n",
       "      <td>NSW77</td>\n",
       "      <td>1</td>\n",
       "      <td>-0.542768</td>\n",
       "      <td>0.658697</td>\n",
       "      <td>1</td>\n",
       "      <td>0</td>\n",
       "      <td>0</td>\n",
       "      <td>0</td>\n",
       "      <td>-0.703546</td>\n",
       "      <td>-0.662971</td>\n",
       "      <td>18678.0800</td>\n",
       "      <td>False</td>\n",
       "      <td>0.650104</td>\n",
       "    </tr>\n",
       "    <tr>\n",
       "      <th>...</th>\n",
       "      <td>...</td>\n",
       "      <td>...</td>\n",
       "      <td>...</td>\n",
       "      <td>...</td>\n",
       "      <td>...</td>\n",
       "      <td>...</td>\n",
       "      <td>...</td>\n",
       "      <td>...</td>\n",
       "      <td>...</td>\n",
       "      <td>...</td>\n",
       "      <td>...</td>\n",
       "      <td>...</td>\n",
       "      <td>...</td>\n",
       "    </tr>\n",
       "    <tr>\n",
       "      <th>109</th>\n",
       "      <td>NSW110</td>\n",
       "      <td>1</td>\n",
       "      <td>-0.137958</td>\n",
       "      <td>-0.102244</td>\n",
       "      <td>1</td>\n",
       "      <td>0</td>\n",
       "      <td>1</td>\n",
       "      <td>1</td>\n",
       "      <td>-0.390485</td>\n",
       "      <td>-0.662971</td>\n",
       "      <td>0.0000</td>\n",
       "      <td>False</td>\n",
       "      <td>0.522388</td>\n",
       "    </tr>\n",
       "    <tr>\n",
       "      <th>559</th>\n",
       "      <td>PSID375</td>\n",
       "      <td>0</td>\n",
       "      <td>1.886090</td>\n",
       "      <td>0.278227</td>\n",
       "      <td>1</td>\n",
       "      <td>0</td>\n",
       "      <td>1</td>\n",
       "      <td>1</td>\n",
       "      <td>-0.703546</td>\n",
       "      <td>-0.662971</td>\n",
       "      <td>2820.9800</td>\n",
       "      <td>False</td>\n",
       "      <td>0.670848</td>\n",
       "    </tr>\n",
       "    <tr>\n",
       "      <th>372</th>\n",
       "      <td>PSID188</td>\n",
       "      <td>0</td>\n",
       "      <td>-1.048780</td>\n",
       "      <td>-0.102244</td>\n",
       "      <td>0</td>\n",
       "      <td>1</td>\n",
       "      <td>0</td>\n",
       "      <td>1</td>\n",
       "      <td>-0.703546</td>\n",
       "      <td>-0.221865</td>\n",
       "      <td>6918.7160</td>\n",
       "      <td>False</td>\n",
       "      <td>0.253744</td>\n",
       "    </tr>\n",
       "    <tr>\n",
       "      <th>342</th>\n",
       "      <td>PSID158</td>\n",
       "      <td>0</td>\n",
       "      <td>-0.947578</td>\n",
       "      <td>-0.102244</td>\n",
       "      <td>1</td>\n",
       "      <td>0</td>\n",
       "      <td>0</td>\n",
       "      <td>1</td>\n",
       "      <td>-0.655456</td>\n",
       "      <td>0.030195</td>\n",
       "      <td>8154.0950</td>\n",
       "      <td>False</td>\n",
       "      <td>0.739006</td>\n",
       "    </tr>\n",
       "    <tr>\n",
       "      <th>78</th>\n",
       "      <td>NSW79</td>\n",
       "      <td>1</td>\n",
       "      <td>1.278875</td>\n",
       "      <td>0.278227</td>\n",
       "      <td>1</td>\n",
       "      <td>0</td>\n",
       "      <td>0</td>\n",
       "      <td>1</td>\n",
       "      <td>-0.703546</td>\n",
       "      <td>-0.662971</td>\n",
       "      <td>23005.6000</td>\n",
       "      <td>False</td>\n",
       "      <td>0.809917</td>\n",
       "    </tr>\n",
       "  </tbody>\n",
       "</table>\n",
       "<p>370 rows × 13 columns</p>\n",
       "</div>"
      ],
      "text/plain": [
       "          id  treat       age      educ  black  hispan  married  nodegree  \\\n",
       "14     NSW15      1 -1.048780 -1.243655      1       0        0         1   \n",
       "232   PSID48      0 -0.239161  0.658697      1       0        1         0   \n",
       "343  PSID159      0  0.064446  0.658697      1       0        0         0   \n",
       "140   NSW141      1 -0.340363 -0.482714      1       0        0         1   \n",
       "76     NSW77      1 -0.542768  0.658697      1       0        0         0   \n",
       "..       ...    ...       ...       ...    ...     ...      ...       ...   \n",
       "109   NSW110      1 -0.137958 -0.102244      1       0        1         1   \n",
       "559  PSID375      0  1.886090  0.278227      1       0        1         1   \n",
       "372  PSID188      0 -1.048780 -0.102244      0       1        0         1   \n",
       "342  PSID158      0 -0.947578 -0.102244      1       0        0         1   \n",
       "78     NSW79      1  1.278875  0.278227      1       0        0         1   \n",
       "\n",
       "         re74      re75        re78  white  Propensity_score  \n",
       "14  -0.703546 -0.662971   3023.8790  False          0.608586  \n",
       "232 -0.657876  1.443688    461.0507  False          0.546007  \n",
       "343  0.266717  0.021503   7310.3130  False          0.594737  \n",
       "140  0.709660  0.031477   4849.5590  False          0.584107  \n",
       "76  -0.703546 -0.662971  18678.0800  False          0.650104  \n",
       "..        ...       ...         ...    ...               ...  \n",
       "109 -0.390485 -0.662971      0.0000  False          0.522388  \n",
       "559 -0.703546 -0.662971   2820.9800  False          0.670848  \n",
       "372 -0.703546 -0.221865   6918.7160  False          0.253744  \n",
       "342 -0.655456  0.030195   8154.0950  False          0.739006  \n",
       "78  -0.703546 -0.662971  23005.6000  False          0.809917  \n",
       "\n",
       "[370 rows x 13 columns]"
      ]
     },
     "metadata": {},
     "output_type": "display_data"
    }
   ],
   "source": [
    "balanced_df_all = df.iloc[matched]\n",
    "display(balanced_df_1)"
   ]
  },
  {
   "cell_type": "code",
   "execution_count": 54,
   "metadata": {},
   "outputs": [
    {
     "data": {
      "image/png": "[encoded data removed]",
      "text/plain": [
       "<Figure size 800x400 with 1 Axes>"
      ]
     },
     "metadata": {},
     "output_type": "display_data"
    }
   ],
   "source": [
    "# Race\n",
    "\n",
    "balanced_df_1['white'] = (~(balanced_df_1['black'].astype(bool) | balanced_df_1['hispan'].astype(bool))).astype(bool)\n",
    "\n",
    "balanced_df_1_group = balanced_df_1.groupby(balanced_df_1.treat)[['white', 'black', 'hispan']].sum()\n",
    "balanced_df_1_group = balanced_df_1_group.div(balanced_df_1_group.sum(axis=1), axis=0)\n",
    "pl = balanced_df_1_group.plot(kind='bar', figsize=[8,4], rot=0)\n",
    "pl.set_title('race')\n",
    "pl.set_ylabel('participants')\n",
    "pl.set_xlabel('group')\n",
    "plt.show()"
   ]
  },
  {
   "cell_type": "code",
   "execution_count": 55,
   "metadata": {},
   "outputs": [],
   "source": [
    "# Race is not balanced. \n",
    "# We will include this additional explicit requirement in task 5"
   ]
  },
  {
   "cell_type": "markdown",
   "metadata": {},
   "source": [
    "## 5. Balancing the groups further\n",
    "\n",
    "Based on your comparison of feature-value distributions from part 4, are you fully satisfied with your matching?\n",
    "Would you say your dataset is sufficiently balanced?\n",
    "If not, in what ways could the \"balanced\" dataset you have obtained still not allow you to draw valid conclusions?\n",
    "\n",
    "Improve your matching by explicitly making sure that you match only subjects that have the same value for the problematic feature.\n",
    "Argue with numbers and plots that the two groups (treated and control) are now better balanced than after part 4.\n"
   ]
  },
  {
   "cell_type": "code",
   "execution_count": 56,
   "metadata": {},
   "outputs": [],
   "source": [
    "# A possible approach:"
   ]
  },
  {
   "cell_type": "code",
   "execution_count": 57,
   "metadata": {},
   "outputs": [],
   "source": [
    "treatment_df = df[df['treat'] == 1]\n",
    "control_df = df[df['treat'] == 0]\n",
    "\n",
    "G = nx.Graph()\n",
    "\n",
    "for control_id, control_row in control_df.iterrows():\n",
    "    for treatment_id, treatment_row in treatment_df.iterrows():\n",
    "\n",
    "        # Adds an edge only if the individuals have the same race\n",
    "        if (control_row['black'] == treatment_row['black']) and (control_row['hispan'] == treatment_row['hispan']):\n",
    "            similarity = get_similarity(control_row['Propensity_score'], treatment_row['Propensity_score'])\n",
    "\n",
    "            G.add_weighted_edges_from([(control_id, treatment_id, similarity)])\n",
    "\n",
    "matching = nx.max_weight_matching(G)"
   ]
  },
  {
   "cell_type": "code",
   "execution_count": 58,
   "metadata": {},
   "outputs": [
    {
     "name": "stdout",
     "output_type": "stream",
     "text": [
      "[14, 232, 19, 341, 515, 1, 243, 145, 120, 401, 21, 77, 35, 139, 169, 582, 357, 184, 538, 189, 22, 32, 172, 111, 76, 412, 17, 363, 142, 114, 18, 47, 137, 208, 12, 57, 595, 105, 128, 558, 171, 70, 95, 41, 7, 607, 43, 81, 9, 181, 144, 56, 0, 138, 58, 570, 162, 124, 402, 165, 82, 475, 2, 183, 560, 146, 573, 84, 34, 517, 107, 75, 54, 31, 109, 612, 68, 190, 67, 36, 161, 96, 572, 39, 117, 112, 178, 59, 10, 152, 159, 180, 154, 166, 182, 576, 119, 69, 528, 88, 115, 89, 44, 565, 64, 129, 27, 86, 130, 176, 179, 6, 123, 585, 99, 133, 294, 126, 592, 51, 151, 250, 37, 371, 415, 13, 311, 556, 410, 275, 529, 42, 61, 600, 48, 141, 366, 343, 344, 215, 440, 127, 583, 100, 324, 225, 590, 452, 318, 125, 552, 230, 24, 380, 345, 103, 444, 584, 360, 270, 302, 135, 459, 571, 293, 484, 389, 514, 253, 278, 462, 33, 281, 535, 122, 414, 526, 164, 554, 422, 46, 437, 52, 373, 418, 38, 539, 361, 521, 519, 283, 174, 492, 155, 524, 280, 540, 450, 104, 342, 536, 375, 549, 284, 510, 557, 453, 604, 603, 568, 564, 30, 282, 461, 136, 322, 574, 192, 596, 11, 211, 551, 320, 525, 559, 391, 268, 199, 217, 28, 372, 477]\n"
     ]
    }
   ],
   "source": [
    "matched = [i[0] for i in list(matching)] + [i[1] for i in list(matching)]\n",
    "print(matched)"
   ]
  },
  {
   "cell_type": "code",
   "execution_count": 59,
   "metadata": {},
   "outputs": [
    {
     "data": {
      "text/html": [
       "<div>\n",
       "<style scoped>\n",
       "    .dataframe tbody tr th:only-of-type {\n",
       "        vertical-align: middle;\n",
       "    }\n",
       "\n",
       "    .dataframe tbody tr th {\n",
       "        vertical-align: top;\n",
       "    }\n",
       "\n",
       "    .dataframe thead th {\n",
       "        text-align: right;\n",
       "    }\n",
       "</style>\n",
       "<table border=\"1\" class=\"dataframe\">\n",
       "  <thead>\n",
       "    <tr style=\"text-align: right;\">\n",
       "      <th></th>\n",
       "      <th>id</th>\n",
       "      <th>treat</th>\n",
       "      <th>age</th>\n",
       "      <th>educ</th>\n",
       "      <th>black</th>\n",
       "      <th>hispan</th>\n",
       "      <th>married</th>\n",
       "      <th>nodegree</th>\n",
       "      <th>re74</th>\n",
       "      <th>re75</th>\n",
       "      <th>re78</th>\n",
       "      <th>white</th>\n",
       "      <th>Propensity_score</th>\n",
       "    </tr>\n",
       "  </thead>\n",
       "  <tbody>\n",
       "    <tr>\n",
       "      <th>14</th>\n",
       "      <td>NSW15</td>\n",
       "      <td>1</td>\n",
       "      <td>-1.048780</td>\n",
       "      <td>-1.243655</td>\n",
       "      <td>1</td>\n",
       "      <td>0</td>\n",
       "      <td>0</td>\n",
       "      <td>1</td>\n",
       "      <td>-0.703546</td>\n",
       "      <td>-0.662971</td>\n",
       "      <td>3023.8790</td>\n",
       "      <td>False</td>\n",
       "      <td>0.608586</td>\n",
       "    </tr>\n",
       "    <tr>\n",
       "      <th>232</th>\n",
       "      <td>PSID48</td>\n",
       "      <td>0</td>\n",
       "      <td>-0.239161</td>\n",
       "      <td>0.658697</td>\n",
       "      <td>1</td>\n",
       "      <td>0</td>\n",
       "      <td>1</td>\n",
       "      <td>0</td>\n",
       "      <td>-0.657876</td>\n",
       "      <td>1.443688</td>\n",
       "      <td>461.0507</td>\n",
       "      <td>False</td>\n",
       "      <td>0.546007</td>\n",
       "    </tr>\n",
       "    <tr>\n",
       "      <th>19</th>\n",
       "      <td>NSW20</td>\n",
       "      <td>1</td>\n",
       "      <td>-0.137958</td>\n",
       "      <td>0.658697</td>\n",
       "      <td>1</td>\n",
       "      <td>0</td>\n",
       "      <td>0</td>\n",
       "      <td>0</td>\n",
       "      <td>-0.703546</td>\n",
       "      <td>-0.662971</td>\n",
       "      <td>10747.3500</td>\n",
       "      <td>False</td>\n",
       "      <td>0.664320</td>\n",
       "    </tr>\n",
       "    <tr>\n",
       "      <th>341</th>\n",
       "      <td>PSID157</td>\n",
       "      <td>0</td>\n",
       "      <td>-1.048780</td>\n",
       "      <td>-1.243655</td>\n",
       "      <td>1</td>\n",
       "      <td>0</td>\n",
       "      <td>0</td>\n",
       "      <td>1</td>\n",
       "      <td>-0.540827</td>\n",
       "      <td>0.030738</td>\n",
       "      <td>1613.6770</td>\n",
       "      <td>False</td>\n",
       "      <td>0.619613</td>\n",
       "    </tr>\n",
       "    <tr>\n",
       "      <th>515</th>\n",
       "      <td>PSID331</td>\n",
       "      <td>0</td>\n",
       "      <td>-0.340363</td>\n",
       "      <td>0.658697</td>\n",
       "      <td>1</td>\n",
       "      <td>0</td>\n",
       "      <td>1</td>\n",
       "      <td>0</td>\n",
       "      <td>-0.340000</td>\n",
       "      <td>-0.662971</td>\n",
       "      <td>2448.5930</td>\n",
       "      <td>False</td>\n",
       "      <td>0.413358</td>\n",
       "    </tr>\n",
       "    <tr>\n",
       "      <th>...</th>\n",
       "      <td>...</td>\n",
       "      <td>...</td>\n",
       "      <td>...</td>\n",
       "      <td>...</td>\n",
       "      <td>...</td>\n",
       "      <td>...</td>\n",
       "      <td>...</td>\n",
       "      <td>...</td>\n",
       "      <td>...</td>\n",
       "      <td>...</td>\n",
       "      <td>...</td>\n",
       "      <td>...</td>\n",
       "      <td>...</td>\n",
       "    </tr>\n",
       "    <tr>\n",
       "      <th>199</th>\n",
       "      <td>PSID15</td>\n",
       "      <td>0</td>\n",
       "      <td>-0.542768</td>\n",
       "      <td>1.419638</td>\n",
       "      <td>1</td>\n",
       "      <td>0</td>\n",
       "      <td>1</td>\n",
       "      <td>0</td>\n",
       "      <td>-0.588010</td>\n",
       "      <td>2.706705</td>\n",
       "      <td>18208.5500</td>\n",
       "      <td>False</td>\n",
       "      <td>0.656970</td>\n",
       "    </tr>\n",
       "    <tr>\n",
       "      <th>217</th>\n",
       "      <td>PSID33</td>\n",
       "      <td>0</td>\n",
       "      <td>-0.036756</td>\n",
       "      <td>0.658697</td>\n",
       "      <td>0</td>\n",
       "      <td>0</td>\n",
       "      <td>1</td>\n",
       "      <td>0</td>\n",
       "      <td>1.190705</td>\n",
       "      <td>1.676192</td>\n",
       "      <td>7806.8290</td>\n",
       "      <td>True</td>\n",
       "      <td>0.024896</td>\n",
       "    </tr>\n",
       "    <tr>\n",
       "      <th>28</th>\n",
       "      <td>NSW29</td>\n",
       "      <td>1</td>\n",
       "      <td>-1.048780</td>\n",
       "      <td>-0.102244</td>\n",
       "      <td>1</td>\n",
       "      <td>0</td>\n",
       "      <td>0</td>\n",
       "      <td>1</td>\n",
       "      <td>-0.703546</td>\n",
       "      <td>-0.662971</td>\n",
       "      <td>16218.0400</td>\n",
       "      <td>False</td>\n",
       "      <td>0.716120</td>\n",
       "    </tr>\n",
       "    <tr>\n",
       "      <th>372</th>\n",
       "      <td>PSID188</td>\n",
       "      <td>0</td>\n",
       "      <td>-1.048780</td>\n",
       "      <td>-0.102244</td>\n",
       "      <td>0</td>\n",
       "      <td>1</td>\n",
       "      <td>0</td>\n",
       "      <td>1</td>\n",
       "      <td>-0.703546</td>\n",
       "      <td>-0.221865</td>\n",
       "      <td>6918.7160</td>\n",
       "      <td>False</td>\n",
       "      <td>0.253744</td>\n",
       "    </tr>\n",
       "    <tr>\n",
       "      <th>477</th>\n",
       "      <td>PSID293</td>\n",
       "      <td>0</td>\n",
       "      <td>0.368054</td>\n",
       "      <td>0.658697</td>\n",
       "      <td>1</td>\n",
       "      <td>0</td>\n",
       "      <td>1</td>\n",
       "      <td>0</td>\n",
       "      <td>-0.703546</td>\n",
       "      <td>-0.649933</td>\n",
       "      <td>11023.8400</td>\n",
       "      <td>False</td>\n",
       "      <td>0.482925</td>\n",
       "    </tr>\n",
       "  </tbody>\n",
       "</table>\n",
       "<p>232 rows × 13 columns</p>\n",
       "</div>"
      ],
      "text/plain": [
       "          id  treat       age      educ  black  hispan  married  nodegree  \\\n",
       "14     NSW15      1 -1.048780 -1.243655      1       0        0         1   \n",
       "232   PSID48      0 -0.239161  0.658697      1       0        1         0   \n",
       "19     NSW20      1 -0.137958  0.658697      1       0        0         0   \n",
       "341  PSID157      0 -1.048780 -1.243655      1       0        0         1   \n",
       "515  PSID331      0 -0.340363  0.658697      1       0        1         0   \n",
       "..       ...    ...       ...       ...    ...     ...      ...       ...   \n",
       "199   PSID15      0 -0.542768  1.419638      1       0        1         0   \n",
       "217   PSID33      0 -0.036756  0.658697      0       0        1         0   \n",
       "28     NSW29      1 -1.048780 -0.102244      1       0        0         1   \n",
       "372  PSID188      0 -1.048780 -0.102244      0       1        0         1   \n",
       "477  PSID293      0  0.368054  0.658697      1       0        1         0   \n",
       "\n",
       "         re74      re75        re78  white  Propensity_score  \n",
       "14  -0.703546 -0.662971   3023.8790  False          0.608586  \n",
       "232 -0.657876  1.443688    461.0507  False          0.546007  \n",
       "19  -0.703546 -0.662971  10747.3500  False          0.664320  \n",
       "341 -0.540827  0.030738   1613.6770  False          0.619613  \n",
       "515 -0.340000 -0.662971   2448.5930  False          0.413358  \n",
       "..        ...       ...         ...    ...               ...  \n",
       "199 -0.588010  2.706705  18208.5500  False          0.656970  \n",
       "217  1.190705  1.676192   7806.8290   True          0.024896  \n",
       "28  -0.703546 -0.662971  16218.0400  False          0.716120  \n",
       "372 -0.703546 -0.221865   6918.7160  False          0.253744  \n",
       "477 -0.703546 -0.649933  11023.8400  False          0.482925  \n",
       "\n",
       "[232 rows x 13 columns]"
      ]
     },
     "metadata": {},
     "output_type": "display_data"
    }
   ],
   "source": [
    "balanced_df_all = df.iloc[matched]\n",
    "display(balanced_df_all)"
   ]
  },
  {
   "cell_type": "code",
   "execution_count": 60,
   "metadata": {},
   "outputs": [
    {
     "name": "stderr",
     "output_type": "stream",
     "text": [
      "/var/folders/s9/xq7jbmk568db4xh2w3w1nj7m0000gn/T/ipykernel_8720/2928089186.py:3: SettingWithCopyWarning: \n",
      "A value is trying to be set on a copy of a slice from a DataFrame.\n",
      "Try using .loc[row_indexer,col_indexer] = value instead\n",
      "\n",
      "See the caveats in the documentation: https://pandas.pydata.org/pandas-docs/stable/user_guide/indexing.html#returning-a-view-versus-a-copy\n",
      "  balanced_df_all['white'] = (~(balanced_df_all['black'].astype(bool) | balanced_df_all['hispan'].astype(bool))).astype(bool)\n"
     ]
    },
    {
     "data": {
      "image/png": "[encoded data removed]",
      "text/plain": [
       "<Figure size 800x400 with 1 Axes>"
      ]
     },
     "metadata": {},
     "output_type": "display_data"
    }
   ],
   "source": [
    "# Race\n",
    "\n",
    "balanced_df_all['white'] = (~(balanced_df_all['black'].astype(bool) | balanced_df_all['hispan'].astype(bool))).astype(bool)\n",
    "\n",
    "balanced_df_all_group = balanced_df_all.groupby(balanced_df_all.treat)[['white', 'black', 'hispan']].sum()\n",
    "balanced_df_all_group = balanced_df_all_group.div(balanced_df_all_group.sum(axis=1), axis=0)\n",
    "pl = balanced_df_all_group.plot(kind='bar', figsize=[8,4], rot=0)\n",
    "pl.set_title('race')\n",
    "pl.set_ylabel('participants')\n",
    "pl.set_xlabel('group')\n",
    "plt.show()"
   ]
  },
  {
   "cell_type": "markdown",
   "metadata": {},
   "source": [
    "## 6. A less naive analysis\n",
    "\n",
    "Compare the outcomes (`re78`) between treated and control subjects, as you've done in part 1, but now only for the matched dataset you've obtained from part 5.\n",
    "What do you conclude about the effectiveness of the job training program?"
   ]
  },
  {
   "cell_type": "code",
   "execution_count": 63,
   "metadata": {
    "tags": []
   },
   "outputs": [],
   "source": [
    "treated = balanced_df_all.loc[balanced_df_all['treat'] == 1] #People that attained the program\n",
    "control = balanced_df_all.loc[balanced_df_all['treat'] == 0] #People that didn't attain the program"
   ]
  },
  {
   "cell_type": "code",
   "execution_count": 64,
   "metadata": {},
   "outputs": [
    {
     "data": {
      "text/plain": [
       "count      116.000000\n",
       "mean      6375.738003\n",
       "std       6670.986821\n",
       "min          0.000000\n",
       "25%        758.102600\n",
       "50%       4648.736000\n",
       "75%      10160.440000\n",
       "max      36646.950000\n",
       "Name: re78, dtype: float64"
      ]
     },
     "execution_count": 64,
     "metadata": {},
     "output_type": "execute_result"
    }
   ],
   "source": [
    "treated.re78.describe()"
   ]
  },
  {
   "cell_type": "code",
   "execution_count": 65,
   "metadata": {},
   "outputs": [
    {
     "data": {
      "text/plain": [
       "count      116.000000\n",
       "mean      5095.456025\n",
       "std       6047.014862\n",
       "min          0.000000\n",
       "25%          0.000000\n",
       "50%       2256.488500\n",
       "75%       8942.092750\n",
       "max      20243.380000\n",
       "Name: re78, dtype: float64"
      ]
     },
     "execution_count": 65,
     "metadata": {},
     "output_type": "execute_result"
    }
   ],
   "source": [
    "control.re78.describe()"
   ]
  },
  {
   "cell_type": "code",
   "execution_count": 66,
   "metadata": {},
   "outputs": [
    {
     "data": {
      "image/png": "[encoded data removed]",
      "text/plain": [
       "<Figure size 640x480 with 1 Axes>"
      ]
     },
     "metadata": {},
     "output_type": "display_data"
    }
   ],
   "source": [
    "ax = sns.histplot(treated['re78'], kde=True, stat='density', color='blue', label='treated');\n",
    "ax = sns.histplot(control['re78'], kde=True, stat='density', color='orange', label='control')\n",
    "ax.set(title='Income distribution comparison in 1978, after matching',xlabel='Income 1978', ylabel='Income density')\n",
    "plt.legend()\n",
    "plt.show()"
   ]
  },
  {
   "cell_type": "code",
   "execution_count": null,
   "metadata": {},
   "outputs": [],
   "source": [
    "# Final conclusion : \n",
    "# after the propensity score matching, the results drastically change  \n",
    "# and support the positive effect of the training program."
   ]
  }
 ],
 "metadata": {
  "kernelspec": {
   "display_name": "Python 3 (ipykernel)",
   "language": "python",
   "name": "python3"
  },
  "language_info": {
   "codemirror_mode": {
    "name": "ipython",
    "version": 3
   },
   "file_extension": ".py",
   "mimetype": "text/x-python",
   "name": "python",
   "nbconvert_exporter": "python",
   "pygments_lexer": "ipython3",
   "version": "3.9.18"
  },
  "varInspector": {
   "cols": {
    "lenName": 16,
    "lenType": 16,
    "lenVar": 40
   },
   "kernels_config": {
    "python": {
     "delete_cmd_postfix": "",
     "delete_cmd_prefix": "del ",
     "library": "var_list.py",
     "varRefreshCmd": "print(var_dic_list())"
    },
    "r": {
     "delete_cmd_postfix": ") ",
     "delete_cmd_prefix": "rm(",
     "library": "var_list.r",
     "varRefreshCmd": "cat(var_dic_list()) "
    }
   },
   "types_to_exclude": [
    "module",
    "function",
    "builtin_function_or_method",
    "instance",
    "_Feature"
   ],
   "window_display": false
  }
 },
 "nbformat": 4,
 "nbformat_minor": 4
}
