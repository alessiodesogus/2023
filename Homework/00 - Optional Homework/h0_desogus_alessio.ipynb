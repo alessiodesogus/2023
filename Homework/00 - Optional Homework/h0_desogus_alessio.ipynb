{
 "cells": [
  {
   "cell_type": "code",
   "execution_count": 2,
   "metadata": {},
   "outputs": [],
   "source": [
    "import pandas as pd\n",
    "import os"
   ]
  },
  {
   "cell_type": "code",
   "execution_count": 4,
   "metadata": {},
   "outputs": [
    {
     "data": {
      "text/html": [
       "<div>\n",
       "<style scoped>\n",
       "    .dataframe tbody tr th:only-of-type {\n",
       "        vertical-align: middle;\n",
       "    }\n",
       "\n",
       "    .dataframe tbody tr th {\n",
       "        vertical-align: top;\n",
       "    }\n",
       "\n",
       "    .dataframe thead th {\n",
       "        text-align: right;\n",
       "    }\n",
       "</style>\n",
       "<table border=\"1\" class=\"dataframe\">\n",
       "  <thead>\n",
       "    <tr style=\"text-align: right;\">\n",
       "      <th></th>\n",
       "      <th>Intent</th>\n",
       "      <th>Gender</th>\n",
       "      <th>Age</th>\n",
       "      <th>Race</th>\n",
       "      <th>Deaths</th>\n",
       "      <th>Population</th>\n",
       "      <th>Rate</th>\n",
       "    </tr>\n",
       "  </thead>\n",
       "  <tbody>\n",
       "    <tr>\n",
       "      <th>1</th>\n",
       "      <td>None selected</td>\n",
       "      <td>None selected</td>\n",
       "      <td>None selected</td>\n",
       "      <td>None selected</td>\n",
       "      <td>33599</td>\n",
       "      <td>316299978</td>\n",
       "      <td>10.6</td>\n",
       "    </tr>\n",
       "    <tr>\n",
       "      <th>2</th>\n",
       "      <td>None selected</td>\n",
       "      <td>None selected</td>\n",
       "      <td>None selected</td>\n",
       "      <td>White</td>\n",
       "      <td>22079</td>\n",
       "      <td>197369634</td>\n",
       "      <td>11.2</td>\n",
       "    </tr>\n",
       "    <tr>\n",
       "      <th>3</th>\n",
       "      <td>None selected</td>\n",
       "      <td>None selected</td>\n",
       "      <td>None selected</td>\n",
       "      <td>Black</td>\n",
       "      <td>7765</td>\n",
       "      <td>38896382</td>\n",
       "      <td>20.0</td>\n",
       "    </tr>\n",
       "    <tr>\n",
       "      <th>4</th>\n",
       "      <td>None selected</td>\n",
       "      <td>None selected</td>\n",
       "      <td>None selected</td>\n",
       "      <td>Hispanic</td>\n",
       "      <td>3007</td>\n",
       "      <td>54049078</td>\n",
       "      <td>5.6</td>\n",
       "    </tr>\n",
       "    <tr>\n",
       "      <th>5</th>\n",
       "      <td>None selected</td>\n",
       "      <td>None selected</td>\n",
       "      <td>None selected</td>\n",
       "      <td>Asian/Pacific Islander</td>\n",
       "      <td>442</td>\n",
       "      <td>16315561</td>\n",
       "      <td>2.7</td>\n",
       "    </tr>\n",
       "  </tbody>\n",
       "</table>\n",
       "</div>"
      ],
      "text/plain": [
       "          Intent         Gender            Age                    Race  \\\n",
       "1  None selected  None selected  None selected           None selected   \n",
       "2  None selected  None selected  None selected                   White   \n",
       "3  None selected  None selected  None selected                   Black   \n",
       "4  None selected  None selected  None selected                Hispanic   \n",
       "5  None selected  None selected  None selected  Asian/Pacific Islander   \n",
       "\n",
       "   Deaths  Population  Rate  \n",
       "1   33599   316299978  10.6  \n",
       "2   22079   197369634  11.2  \n",
       "3    7765    38896382  20.0  \n",
       "4    3007    54049078   5.6  \n",
       "5     442    16315561   2.7  "
      ]
     },
     "execution_count": 4,
     "metadata": {},
     "output_type": "execute_result"
    }
   ],
   "source": [
    "## Reading the 'interactive_data.csv' file as a pandas dataframe\n",
    "PATH_IN = './Data/' \n",
    "fname = os.path.join(PATH_IN, 'interactive_data.csv')\n",
    "df = pd.read_csv(fname, index_col=0)\n",
    "df.head(5)"
   ]
  },
  {
   "cell_type": "markdown",
   "metadata": {},
   "source": [
    "1. **Setting the Input Path:** It begins by defining a variable `PATH_IN` with the value `'./Data/'`. This variable seems to specify the path to a directory where some data files are located. The `./` at the beginning signifies that this path is relative to the current directory where the script is executed.\n",
    "\n",
    "2. **Constructing a File Path:** The next line of code uses the `os.path.join()` function from the `os` module to construct a file path by joining the `PATH_IN` with the string `'interactive_data.csv'`. This indicates that the script is trying to create a complete file path for a file named \"interactive_data.csv\" located within the directory specified in `PATH_IN`. The resulting file path is stored in the variable `fname`.\n",
    "\n",
    "3. **Reading CSV Data into a DataFrame:** The script uses the `pd.read_csv()` function from the Pandas library to read the data from the CSV file specified by the `fname` variable. The `index_col=0` argument indicates that the first column of the CSV file should be used as the index (row labels) for the resulting DataFrame. This assumes that the first column contains unique identifiers or labels for each row.\n",
    "\n",
    "4. **Displaying the First 10 Rows:** Finally, the script prints the first 10 rows of the DataFrame using the `df.head(10)` method. This provides a preview of the data that has been read from the CSV file.\n",
    "\n",
    "In summary, this code snippet is used to read data from a CSV file located in the './Data/' directory, store it in a Pandas DataFrame called `df`, and then display the first 10 rows of that DataFrame to inspect the data."
   ]
  },
  {
   "cell_type": "code",
   "execution_count": 6,
   "metadata": {},
   "outputs": [
    {
     "data": {
      "text/html": [
       "<div>\n",
       "<style scoped>\n",
       "    .dataframe tbody tr th:only-of-type {\n",
       "        vertical-align: middle;\n",
       "    }\n",
       "\n",
       "    .dataframe tbody tr th {\n",
       "        vertical-align: top;\n",
       "    }\n",
       "\n",
       "    .dataframe thead th {\n",
       "        text-align: right;\n",
       "    }\n",
       "</style>\n",
       "<table border=\"1\" class=\"dataframe\">\n",
       "  <thead>\n",
       "    <tr style=\"text-align: right;\">\n",
       "      <th></th>\n",
       "      <th>Intent</th>\n",
       "      <th>Gender</th>\n",
       "      <th>Age</th>\n",
       "      <th>Race</th>\n",
       "      <th>Deaths</th>\n",
       "      <th>Population</th>\n",
       "      <th>Rate</th>\n",
       "    </tr>\n",
       "  </thead>\n",
       "  <tbody>\n",
       "    <tr>\n",
       "      <th>152</th>\n",
       "      <td>Suicide</td>\n",
       "      <td>Female</td>\n",
       "      <td>Under 15</td>\n",
       "      <td>White</td>\n",
       "      <td>19</td>\n",
       "      <td>15355910</td>\n",
       "      <td>0.1</td>\n",
       "    </tr>\n",
       "    <tr>\n",
       "      <th>153</th>\n",
       "      <td>Suicide</td>\n",
       "      <td>Female</td>\n",
       "      <td>Under 15</td>\n",
       "      <td>Black</td>\n",
       "      <td>1</td>\n",
       "      <td>4095428</td>\n",
       "      <td>0.0</td>\n",
       "    </tr>\n",
       "    <tr>\n",
       "      <th>154</th>\n",
       "      <td>Suicide</td>\n",
       "      <td>Female</td>\n",
       "      <td>Under 15</td>\n",
       "      <td>Hispanic</td>\n",
       "      <td>4</td>\n",
       "      <td>7330024</td>\n",
       "      <td>0.1</td>\n",
       "    </tr>\n",
       "    <tr>\n",
       "      <th>155</th>\n",
       "      <td>Suicide</td>\n",
       "      <td>Female</td>\n",
       "      <td>Under 15</td>\n",
       "      <td>Asian/Pacific Islander</td>\n",
       "      <td>1</td>\n",
       "      <td>1393440</td>\n",
       "      <td>0.1</td>\n",
       "    </tr>\n",
       "    <tr>\n",
       "      <th>156</th>\n",
       "      <td>Suicide</td>\n",
       "      <td>Female</td>\n",
       "      <td>Under 15</td>\n",
       "      <td>Other</td>\n",
       "      <td>0</td>\n",
       "      <td>1661877</td>\n",
       "      <td>0.0</td>\n",
       "    </tr>\n",
       "  </tbody>\n",
       "</table>\n",
       "</div>"
      ],
      "text/plain": [
       "      Intent  Gender       Age                    Race  Deaths  Population  \\\n",
       "152  Suicide  Female  Under 15                   White      19    15355910   \n",
       "153  Suicide  Female  Under 15                   Black       1     4095428   \n",
       "154  Suicide  Female  Under 15                Hispanic       4     7330024   \n",
       "155  Suicide  Female  Under 15  Asian/Pacific Islander       1     1393440   \n",
       "156  Suicide  Female  Under 15                   Other       0     1661877   \n",
       "\n",
       "     Rate  \n",
       "152   0.1  \n",
       "153   0.0  \n",
       "154   0.1  \n",
       "155   0.1  \n",
       "156   0.0  "
      ]
     },
     "execution_count": 6,
     "metadata": {},
     "output_type": "execute_result"
    }
   ],
   "source": [
    "## Note that there are other ways to approach this analysis, the following is one possible correct solution.\n",
    "## The file 'interactive_data.csv' contains aggregations across different categorical filters.\n",
    "## Specifically, 'None selected' corresponds to the case when a filter is not applied to a column.\n",
    "## Thus, such cases correspond to all possible values under that column.\n",
    "## For example, if all columns have the entry 'None selected', then this corresponds to an aggregation across all entries.\n",
    "## Thus, the first pre-processing step is to remove rows where at least one column has the value 'None selected'.\n",
    "df_filtered = df.loc[~(df=='None selected').any(axis=1)]\n",
    "df_filtered.head(5)"
   ]
  },
  {
   "cell_type": "markdown",
   "metadata": {},
   "source": [
    "The provided line of code is used to filter a Pandas DataFrame called `df` based on a condition and create a new DataFrame called `df_filtered`. Let's break down this line of code step by step:\n",
    "\n",
    "1. `df`: This is the original DataFrame that you have previously loaded from a CSV file using `pd.read_csv()`.\n",
    "\n",
    "2. `df.loc[...]`: This part of the code is using DataFrame indexing with the `.loc[]` accessor. It allows you to select specific rows and columns from the DataFrame.\n",
    "\n",
    "3. `~(df=='None selected').any(axis=1)`: This is the condition that specifies which rows should be selected from the original DataFrame `df`. Let's break it down further:\n",
    "   - `df=='None selected'`: This part compares each element in the DataFrame `df` to the string `'None selected'`. This comparison results in a DataFrame of the same shape as `df`, where each element is either `True` if the corresponding element in `df` is equal to `'None selected'` or `False` otherwise.\n",
    "   - `.any(axis=1)`: After comparing each element to `'None selected'`, the `.any(axis=1)` part checks if any element in each row is `True`. It computes this along the rows (axis=1). So, for each row, it returns `True` if any element in that row is `'None selected'` and `False` otherwise.\n",
    "   - `~`: Finally, the tilde (`~`) operator is used to negate the condition. It flips `True` values to `False` and vice versa. Essentially, it selects rows where none of the elements are equal to `'None selected'`.\n",
    "\n",
    "4. `df_filtered`: This is the new DataFrame that stores the result of the filtering operation. It contains only the rows from the original `df` where none of the elements in the row are equal to `'None selected'`.\n",
    "\n",
    "In summary, the line of code filters the original DataFrame `df` to create a new DataFrame `df_filtered`, which excludes rows where any element in that row is equal to the string `'None selected'`."
   ]
  },
  {
   "cell_type": "code",
   "execution_count": 10,
   "metadata": {},
   "outputs": [
    {
     "name": "stdout",
     "output_type": "stream",
     "text": [
      "Total Deaths: 33595\n"
     ]
    }
   ],
   "source": [
    "## Compute #deaths\n",
    "all_deaths = df_filtered['Deaths'].sum()\n",
    "print(\"Total Deaths:\", all_deaths)"
   ]
  },
  {
   "cell_type": "code",
   "execution_count": 11,
   "metadata": {},
   "outputs": [
    {
     "name": "stdout",
     "output_type": "stream",
     "text": [
      "62.68194671826165% of gun deaths are suicides.\n"
     ]
    }
   ],
   "source": [
    "## Compute #suicides\n",
    "suicides = df_filtered[df_filtered['Intent'] == 'Suicide']['Deaths'].sum()\n",
    "print(f'{suicides/all_deaths*100}% of gun deaths are suicides.')"
   ]
  },
  {
   "cell_type": "markdown",
   "metadata": {},
   "source": [
    "The provided code calculates the percentage of gun deaths that are attributed to suicide and then prints this percentage as a formatted string. Let's break it down step by step:\n",
    "\n",
    "1. `suicides = df_filtered[df_filtered['Intent'] == 'Suicide']['Deaths'].sum()`\n",
    "\n",
    "   - `df_filtered[df_filtered['Intent'] == 'Suicide']`: This part of the code filters the `df_filtered` DataFrame to select only the rows where the 'Intent' column has the value 'Suicide'. This creates a new DataFrame containing only the rows related to suicide.\n",
    "\n",
    "   - `['Deaths'].sum()`: After filtering, this part calculates the sum of the 'Deaths' column for the filtered DataFrame. In other words, it computes the total number of deaths for which the intent is 'Suicide' and stores this value in the variable `suicides`.\n",
    "\n",
    "So, this code calculates the percentage of gun deaths that are suicides from the filtered DataFrame `df_filtered` and then prints this percentage as a message. For example, if 20% of the filtered gun deaths are suicides, it will print something like \"20% of gun deaths are suicides.\""
   ]
  },
  {
   "cell_type": "code",
   "execution_count": 12,
   "metadata": {},
   "outputs": [
    {
     "name": "stdout",
     "output_type": "stream",
     "text": [
      "86.24275809668535% of suicide victims are male.\n"
     ]
    }
   ],
   "source": [
    "## Compute #male-suicides\n",
    "male_suicides = df_filtered[\n",
    "                    (df_filtered['Intent'] == 'Suicide') & \n",
    "                    (df_filtered['Gender'] == 'Male')\n",
    "                ]['Deaths'].sum()\n",
    "print(f'{male_suicides/suicides*100}% of suicide victims are male.')"
   ]
  },
  {
   "cell_type": "code",
   "execution_count": 14,
   "metadata": {},
   "outputs": [
    {
     "name": "stdout",
     "output_type": "stream",
     "text": [
      "34.906980205387704% of gun death arehomicides.\n"
     ]
    }
   ],
   "source": [
    "## Compute total homicides - Alessio :)\n",
    "homicides = df_filtered[(df_filtered['Intent'] == 'Homicide')]['Deaths'].sum()\n",
    "print(f'{homicides/all_deaths*100}% of gun death are homicides.')\n"
   ]
  },
  {
   "cell_type": "code",
   "execution_count": 16,
   "metadata": {},
   "outputs": [
    {
     "name": "stdout",
     "output_type": "stream",
     "text": [
      "66.12482748044778% of homicide victims who are males in the age-group 15--34 are black.\n"
     ]
    }
   ],
   "source": [
    "## Compute black-males homicides in the age-group 15--34 - Alessio :))\n",
    "male_age_group_homicide = df_filtered[\n",
    "                    (df_filtered['Intent'] == 'Homicide') & \n",
    "                    (df_filtered['Gender'] == 'Male') &\n",
    "                    (df_filtered['Age'] == '15 - 34')\n",
    "                ]['Deaths'].sum()\n",
    "\n",
    "black_male_age_group_homicide = df_filtered[\n",
    "                    (df_filtered['Intent'] == 'Homicide') & \n",
    "                    (df_filtered['Gender'] == 'Male') &\n",
    "                    (df_filtered['Age'] == '15 - 34') &\n",
    "                    (df_filtered['Race'] == 'Black') \n",
    "                ]['Deaths'].sum()\n",
    "\n",
    "percentage = (black_male_age_group_homicide/male_age_group_homicide)*100\n",
    "print(f'{percentage}% of homicide victims who are males in the age-group 15--34 are black.')"
   ]
  },
  {
   "cell_type": "code",
   "execution_count": 17,
   "metadata": {},
   "outputs": [
    {
     "name": "stdout",
     "output_type": "stream",
     "text": [
      "15.289502856655583% of homicide victims are women.\n"
     ]
    }
   ],
   "source": [
    "## Compute women total homicide victims - Alessio :)))\n",
    "women_homicides = df_filtered[\n",
    "                    (df_filtered['Intent'] == 'Homicide') &\n",
    "                    (df_filtered['Gender'] == 'Female')\n",
    "                    ]['Deaths'].sum()\n",
    "print(f'{women_homicides/homicides*100}% of homicide victims are women.')"
   ]
  }
 ],
 "metadata": {
  "kernelspec": {
   "display_name": "ada",
   "language": "python",
   "name": "python3"
  },
  "language_info": {
   "codemirror_mode": {
    "name": "ipython",
    "version": 3
   },
   "file_extension": ".py",
   "mimetype": "text/x-python",
   "name": "python",
   "nbconvert_exporter": "python",
   "pygments_lexer": "ipython3",
   "version": "3.9.18"
  },
  "orig_nbformat": 4
 },
 "nbformat": 4,
 "nbformat_minor": 2
}
